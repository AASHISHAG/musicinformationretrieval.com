{
 "metadata": {
  "name": "",
  "signature": "sha256:1a018ef17cad8a8291d51d7d4b3db87b14bb2df5336075a60098d7f63a0c8df3"
 },
 "nbformat": 3,
 "nbformat_minor": 0,
 "worksheets": [
  {
   "cells": [
    {
     "cell_type": "heading",
     "level": 1,
     "metadata": {},
     "source": [
      "CCRMA Workshop on Music Information Retrieval"
     ]
    },
    {
     "cell_type": "heading",
     "level": 1,
     "metadata": {},
     "source": [
      "Table of Contents"
     ]
    },
    {
     "cell_type": "heading",
     "level": 2,
     "metadata": {},
     "source": [
      "Introduction"
     ]
    },
    {
     "cell_type": "markdown",
     "metadata": {},
     "source": [
      "1.   [About This Workshop](notebooks/about_this_workshop.ipynb)\n",
      "1.   [Getting Good at IPython](notebooks/get_good_at_ipython.ipynb)\n",
      "1.   [Using Audio in IPython](notebooks/ipython_audio.ipynb)\n",
      "1.   [Python Basics](notebooks/python_basics.ipynb)\n",
      "1.   [NumPy, SciPy, Matplotlib Basics](notebooks/numpy_basics.ipynb)"
     ]
    },
    {
     "cell_type": "heading",
     "level": 2,
     "metadata": {},
     "source": [
      "MIR Basics"
     ]
    },
    {
     "cell_type": "markdown",
     "metadata": {},
     "source": [
      "1.  [Segmentation](notebooks/segmentation.ipynb)\n",
      "1.  [Feature Extraction](notebooks/feature_extraction.ipynb)\n",
      "1.  [Spectral Features](notebooks/spectral_features.ipynb)\n",
      "1.  [Onset Detection](notebooks/onset_detection.ipynb)\n",
      "1.  [K-Nearest Neighbor](notebooks/knn.ipynb)\n",
      "1.  [Mel-Frequency Ceptral Coefficients](notebooks/mfcc.ipynb)\n",
      "1.  [Cross Validation](notebooks/cross_validation.ipynb)\n",
      "1.  [Unsupervised Classification]()\n",
      "1.  [Nonnegative Matrix Factorization](notebooks/nmf.ipynb)\n",
      "1.  [Source Separation]()"
     ]
    },
    {
     "cell_type": "heading",
     "level": 2,
     "metadata": {},
     "source": [
      "Exercises"
     ]
    },
    {
     "cell_type": "markdown",
     "metadata": {},
     "source": [
      "1.  [Sonification](notebooks/sonification.ipynb)"
     ]
    }
   ],
   "metadata": {}
  }
 ]
}