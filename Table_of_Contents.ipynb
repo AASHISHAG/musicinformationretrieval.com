{
 "metadata": {
  "name": "",
  "signature": "sha256:0832f779d4676c1f92a3941d26391f0e598ba5cd238637211ed11ceed0c7eab5"
 },
 "nbformat": 3,
 "nbformat_minor": 0,
 "worksheets": [
  {
   "cells": [
    {
     "cell_type": "markdown",
     "metadata": {},
     "source": [
      "CCRMA Workshop on Music Information Retrieval\n",
      "=============================================\n",
      "\n",
      "Table of Contents\n",
      "-----------------\n",
      "\n",
      "### Introduction\n",
      "\n",
      "-   [About This Workshop](notebooks/about_this_workshop.ipynb)\n",
      "\n",
      "-   [Getting Good at IPython](notebooks/get_good_at_ipython.ipynb)\n",
      "\n",
      "-   [Using Audio in IPython](notebooks/ipython_audio.ipynb)\n",
      "\n",
      "### Day 1\n",
      "\n",
      "1.  [Onset Detection](notebooks/)\n",
      "\n",
      "1.  [Basic Segmentation and Feature Extraction](notebooks/)\n",
      "\n",
      "1.  [Example: Zero-Crossing Rate](notebooks/zcr.ipynb)\n",
      "\n",
      "1.  [Spectral Features](notebooks/)\n",
      "\n",
      "1.  [K-Nearest Neighbor](notebooks/)\n",
      "\n",
      "### Day 2\n",
      "\n",
      "1.  [Segmentation](notebooks/)\n",
      "\n",
      "1.  [Mel-Frequency Ceptral Coefficients](notebooks/mfcc.ipynb)\n",
      "\n",
      "1.  [Cross Validation](notebooks/cross_validation.ipynb)\n",
      "\n",
      "### Day 3\n",
      "\n",
      "1.  [Unsupervised Classification]()\n",
      "\n",
      "### Day 4\n",
      "\n",
      "1.  [Nonnegative Matrix Factorization](notebooks/nmf.ipynb)\n",
      "\n",
      "1.  [Source Separation]()\n",
      "\n",
      "### Day 5\n"
     ]
    },
    {
     "cell_type": "code",
     "collapsed": false,
     "input": [],
     "language": "python",
     "metadata": {},
     "outputs": []
    }
   ],
   "metadata": {}
  }
 ]
}