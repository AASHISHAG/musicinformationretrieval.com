{
 "metadata": {
  "name": "",
  "signature": "sha256:536c517d48c98583d6306b6a68d4f93eed7dc8277f50f50aa7f338f8a2832ad9"
 },
 "nbformat": 3,
 "nbformat_minor": 0,
 "worksheets": [
  {
   "cells": [
    {
     "cell_type": "heading",
     "level": 1,
     "metadata": {},
     "source": [
      "CCRMA Workshop on Music Information Retrieval"
     ]
    },
    {
     "cell_type": "heading",
     "level": 1,
     "metadata": {},
     "source": [
      "Table of Contents"
     ]
    },
    {
     "cell_type": "heading",
     "level": 2,
     "metadata": {},
     "source": [
      "Introduction"
     ]
    },
    {
     "cell_type": "markdown",
     "metadata": {},
     "source": [
      "1.   [About This Workshop](notebooks/about_this_workshop.ipynb)\n",
      "1.   [Getting Good at IPython](notebooks/get_good_at_ipython.ipynb)\n",
      "1.   [Using Audio in IPython](notebooks/ipython_audio.ipynb)\n",
      "1.   [Python Basics](notebooks/python_basics.ipynb)\n",
      "1.   [NumPy, SciPy, Matplotlib Basics](notebooks/numpy_basics.ipynb)"
     ]
    },
    {
     "cell_type": "heading",
     "level": 2,
     "metadata": {},
     "source": [
      "Day 1: Basic Signal Manipulation"
     ]
    },
    {
     "cell_type": "markdown",
     "metadata": {},
     "source": [
      "1.  [Segmentation](notebooks/segmentation.ipynb)\n",
      "1.  [Signal Representations](notebooks/signal_representations.ipynb)\n",
      "1.  [Onset Detection](notebooks/onset_detection.ipynb)\n",
      "1.  [Exercise: Understanding Audio Features through Sonification](exercises/feature_sonification.ipynb)"
     ]
    },
    {
     "cell_type": "heading",
     "level": 2,
     "metadata": {},
     "source": [
      "Day 2: Spectral Feature Extraction and Classification"
     ]
    },
    {
     "cell_type": "markdown",
     "metadata": {},
     "source": [
      "1.  [Spectral Features](notebooks/spectral_features.ipynb)\n",
      "1.  [Mel-Frequency Cepstral Coefficients](notebooks/mfcc.ipynb)\n",
      "1.  [K-Nearest Neighbor](notebooks/knn.ipynb)\n",
      "1.  [Exercise: Instrument Classification using K-NN](exercises/knn_instrument_classification.ipynb)"
     ]
    },
    {
     "cell_type": "heading",
     "level": 2,
     "metadata": {},
     "source": [
      "Day 3: Tonal Features and Unsupervised Classification"
     ]
    },
    {
     "cell_type": "markdown",
     "metadata": {},
     "source": [
      "1.  [K-Means Clustering](notebooks/kmeans.ipynb)\n",
      "1.  [Exercise: Unsupervised Instrument Classification using K-Means](exercises/kmeans_instrument_classification.ipynb)"
     ]
    },
    {
     "cell_type": "heading",
     "level": 2,
     "metadata": {},
     "source": [
      "More (work in progress)"
     ]
    },
    {
     "cell_type": "markdown",
     "metadata": {},
     "source": [
      "1.  [Cross Validation](notebooks/cross_validation.ipynb)\n",
      "1.  [Evaluation](notebooks/evaluation.ipynb)\n",
      "1.  [Tonal Descriptors: Pitch and Chroma](notebooks/tonal.ipynb)\n",
      "1.  [Feature Extraction](notebooks/feature_extraction.ipynb)\n",
      "1.  [Beat Tracking](notebooks/beat_tracking.ipynb)\n",
      "1.  [Tempo Estimation](notebooks/tempo_estimation.ipynb)\n",
      "1.  [Nonnegative Matrix Factorization](notebooks/nmf.ipynb)\n",
      "1.  [Exercise: Source Separation using NMF](exercises/nmf_source_separation.ipynb)\n"
     ]
    },
    {
     "cell_type": "code",
     "collapsed": false,
     "input": [],
     "language": "python",
     "metadata": {},
     "outputs": []
    }
   ],
   "metadata": {}
  }
 ]
}