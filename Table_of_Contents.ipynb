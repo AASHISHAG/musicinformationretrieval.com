{
 "metadata": {
  "name": "",
  "signature": "sha256:2caacd935522d3b867f16fafea2ffcae60ea4ade99332c5924acfeca2c1a3842"
 },
 "nbformat": 3,
 "nbformat_minor": 0,
 "worksheets": [
  {
   "cells": [
    {
     "cell_type": "heading",
     "level": 1,
     "metadata": {},
     "source": [
      "CCRMA Workshop on Music Information Retrieval"
     ]
    },
    {
     "cell_type": "heading",
     "level": 2,
     "metadata": {},
     "source": [
      "Table of Contents"
     ]
    },
    {
     "cell_type": "heading",
     "level": 3,
     "metadata": {},
     "source": [
      "Introduction"
     ]
    },
    {
     "cell_type": "markdown",
     "metadata": {},
     "source": [
      "-   [About This Workshop](notebooks/about_this_workshop.ipynb)\n",
      "-   [Getting Good at IPython](notebooks/get_good_at_ipython.ipynb)\n",
      "-   [Using Audio in IPython](notebooks/ipython_audio.ipynb)\n",
      "-   [Python Basics](notebooks/python_basics.ipynb)\n",
      "-   [NumPy, SciPy, Matplotlib Basics](notebooks/numpy_basics.ipynb)"
     ]
    },
    {
     "cell_type": "heading",
     "level": 3,
     "metadata": {},
     "source": [
      "Day 1"
     ]
    },
    {
     "cell_type": "markdown",
     "metadata": {},
     "source": [
      "1.  [Onset Detection](notebooks/onset_detection.ipynb)\n",
      "1.  [Segmentation](notebooks/segmentation.ipynb)\n",
      "1.  [Feature Extraction](notebooks/feature_extraction.ipynb)\n",
      "1.  [Spectral Features](notebooks/spectral_features.ipynb)\n",
      "1.  [K-Nearest Neighbor](notebooks/knn.ipynb)"
     ]
    },
    {
     "cell_type": "heading",
     "level": 3,
     "metadata": {},
     "source": [
      "Other Topics"
     ]
    },
    {
     "cell_type": "markdown",
     "metadata": {},
     "source": [
      "1.  [Segmentation](notebooks/)\n",
      "\n",
      "1.  [Mel-Frequency Ceptral Coefficients](notebooks/mfcc.ipynb)\n",
      "\n",
      "1.  [Cross Validation](notebooks/cross_validation.ipynb)"
     ]
    },
    {
     "cell_type": "markdown",
     "metadata": {},
     "source": [
      "1.  [Unsupervised Classification]()\n",
      "\n",
      "1.  [Nonnegative Matrix Factorization](notebooks/nmf.ipynb)\n",
      "\n",
      "1.  [Source Separation]()\n"
     ]
    }
   ],
   "metadata": {}
  }
 ]
}