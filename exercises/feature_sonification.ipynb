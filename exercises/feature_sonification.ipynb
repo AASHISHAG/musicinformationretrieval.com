{
 "metadata": {
  "name": "",
  "signature": "sha256:41f4a472d3da99aa14f01f67bcbd986a65fa3ebff6f2114dd6f3b585eb677d2a"
 },
 "nbformat": 3,
 "nbformat_minor": 0,
 "worksheets": [
  {
   "cells": [
    {
     "cell_type": "heading",
     "level": 1,
     "metadata": {},
     "source": [
      "Exercise: Understanding Audio Features through Sonification"
     ]
    },
    {
     "cell_type": "markdown",
     "metadata": {},
     "source": [
      "This is an *exercise* notebook. It's a playground for your Python code. Feel free to write and execute your code without fear.\n",
      "\n",
      "When you see a cell that looks like this:"
     ]
    },
    {
     "cell_type": "code",
     "collapsed": false,
     "input": [
      "plot?"
     ],
     "language": "python",
     "metadata": {},
     "outputs": [],
     "prompt_number": 49
    },
    {
     "cell_type": "markdown",
     "metadata": {},
     "source": [
      "that is a cue to use a particular command, in this case, `plot`. Run the cell to see documentation for that command. (To quickly close the Help window, press `q`.) \n",
      "\n",
      "For more documentation, visit the links in the Help menu above. Also see the other notebooks; all the exercises here are covered somewhere else in separate notebooks."
     ]
    },
    {
     "cell_type": "markdown",
     "metadata": {},
     "source": [
      "This exercise is loosely based upon \"Lab 1\" from previous MIR workshops ([2010](https://ccrma.stanford.edu/workshops/mir2010/Lab1_2010.pdf))."
     ]
    },
    {
     "cell_type": "heading",
     "level": 2,
     "metadata": {},
     "source": [
      "Goals"
     ]
    },
    {
     "cell_type": "markdown",
     "metadata": {},
     "source": [
      "In this lab, you will segment, feature extract, and analyze audio files."
     ]
    },
    {
     "cell_type": "markdown",
     "metadata": {},
     "source": [
      "1. Detect onsets in an audio signal.\n",
      "2. Segment the audio signal at each onset.\n",
      "3. Compute features for each segment.\n",
      "4. Gain intuition into the features by listening to each segment separately."
     ]
    },
    {
     "cell_type": "heading",
     "level": 2,
     "metadata": {},
     "source": [
      "Step 1: Retrieve Audio"
     ]
    },
    {
     "cell_type": "markdown",
     "metadata": {},
     "source": [
      "Download the file `simpleLoop.wav` onto your local machine."
     ]
    },
    {
     "cell_type": "code",
     "collapsed": false,
     "input": [
      "import urllib\n",
      "url = 'https://ccrma.stanford.edu/workshops/mir2014/audio/simpleLoop.wav'\n",
      "urllib.urlretrieve?"
     ],
     "language": "python",
     "metadata": {},
     "outputs": [],
     "prompt_number": 50
    },
    {
     "cell_type": "markdown",
     "metadata": {},
     "source": [
      "Save the audio signal into an array."
     ]
    },
    {
     "cell_type": "code",
     "collapsed": false,
     "input": [
      "from essentia.standard import MonoLoader\n",
      "fs = 44100\n",
      "MonoLoader?"
     ],
     "language": "python",
     "metadata": {},
     "outputs": [],
     "prompt_number": 51
    },
    {
     "cell_type": "markdown",
     "metadata": {},
     "source": [
      "Listen to the audio signal."
     ]
    },
    {
     "cell_type": "code",
     "collapsed": false,
     "input": [
      "from IPython.display import Audio\n",
      "Audio?"
     ],
     "language": "python",
     "metadata": {},
     "outputs": [],
     "prompt_number": 52
    },
    {
     "cell_type": "markdown",
     "metadata": {},
     "source": [
      "Display the audio signal."
     ]
    },
    {
     "cell_type": "code",
     "collapsed": false,
     "input": [
      "plot?"
     ],
     "language": "python",
     "metadata": {},
     "outputs": [],
     "prompt_number": 53
    },
    {
     "cell_type": "markdown",
     "metadata": {},
     "source": [
      "Display the spectrogram."
     ]
    },
    {
     "cell_type": "code",
     "collapsed": false,
     "input": [
      "specgram?"
     ],
     "language": "python",
     "metadata": {},
     "outputs": [],
     "prompt_number": 54
    },
    {
     "cell_type": "heading",
     "level": 2,
     "metadata": {},
     "source": [
      "Step 2: Detect Onsets"
     ]
    },
    {
     "cell_type": "markdown",
     "metadata": {},
     "source": [
      "Find the times, in seconds, when onsets occur in the audio signal."
     ]
    },
    {
     "cell_type": "code",
     "collapsed": false,
     "input": [
      "from essentia.standard import OnsetRate\n",
      "OnsetRate?\n",
      "onset_times = array([0]) # placeholder"
     ],
     "language": "python",
     "metadata": {},
     "outputs": [],
     "prompt_number": 60
    },
    {
     "cell_type": "markdown",
     "metadata": {},
     "source": [
      "Convert the onset times into sample indices."
     ]
    },
    {
     "cell_type": "code",
     "collapsed": false,
     "input": [
      "onset_samples = int(fs*onset_times)"
     ],
     "language": "python",
     "metadata": {},
     "outputs": [],
     "prompt_number": 61
    },
    {
     "cell_type": "markdown",
     "metadata": {},
     "source": [
      "Play a \"beep\" at each onset."
     ]
    },
    {
     "cell_type": "code",
     "collapsed": false,
     "input": [
      "from essentia.standard import AudioOnsetsMarker\n",
      "AudioOnsetsMarker?"
     ],
     "language": "python",
     "metadata": {},
     "outputs": [],
     "prompt_number": 62
    },
    {
     "cell_type": "heading",
     "level": 2,
     "metadata": {},
     "source": [
      "Step 3: Segment the Audio"
     ]
    },
    {
     "cell_type": "markdown",
     "metadata": {},
     "source": [
      "Save into an array, `segments`, 100-ms segments beginning at each onset."
     ]
    },
    {
     "cell_type": "code",
     "collapsed": false,
     "input": [
      "frame_sz = int(0.1*fs)\n",
      "segments = array([zeros(frame_sz), ones(frame_sz)]) # placeholder"
     ],
     "language": "python",
     "metadata": {},
     "outputs": [],
     "prompt_number": 68
    },
    {
     "cell_type": "markdown",
     "metadata": {},
     "source": [
      "Here is a function that adds 300 ms of silence onto the end of each segment and concatenates them into one signal.\n",
      "\n",
      "Later, we will use this function to listen to each segment, perhaps sorted in a different order."
     ]
    },
    {
     "cell_type": "code",
     "collapsed": false,
     "input": [
      "def concatenate_segments(segments, fs=44100, pad_time=0.3):\n",
      "    padded_segments = [concatenate([segment, zeros(int(pad_time*fs))]) for segment in segments]\n",
      "    return concatenate(padded_segments)"
     ],
     "language": "python",
     "metadata": {},
     "outputs": [],
     "prompt_number": 69
    },
    {
     "cell_type": "markdown",
     "metadata": {},
     "source": [
      "Listen to the newly concatenated signal."
     ]
    },
    {
     "cell_type": "code",
     "collapsed": false,
     "input": [
      "concatenated_signal = concatenate_segments(segments, fs)\n",
      "Audio?"
     ],
     "language": "python",
     "metadata": {},
     "outputs": [],
     "prompt_number": 70
    },
    {
     "cell_type": "heading",
     "level": 2,
     "metadata": {},
     "source": [
      "Step 4: Extract Features"
     ]
    },
    {
     "cell_type": "markdown",
     "metadata": {},
     "source": [
      "For each segment, compute the zero crossing rate."
     ]
    },
    {
     "cell_type": "code",
     "collapsed": false,
     "input": [
      "from essentia.standard import ZeroCrossingRate\n",
      "ZeroCrossingRate?\n",
      "zcrs = []"
     ],
     "language": "python",
     "metadata": {},
     "outputs": [],
     "prompt_number": 71
    },
    {
     "cell_type": "markdown",
     "metadata": {},
     "source": [
      "Use `argsort` to find an index array, `ind`, such that `segments[ind]` is sorted by zero crossing rate."
     ]
    },
    {
     "cell_type": "code",
     "collapsed": false,
     "input": [
      "argsort?\n",
      "ind = arange(2) # placeholder"
     ],
     "language": "python",
     "metadata": {},
     "outputs": [],
     "prompt_number": 76
    },
    {
     "cell_type": "markdown",
     "metadata": {},
     "source": [
      "Sort the segments by zero crossing rate, and concatenate the sorted segments."
     ]
    },
    {
     "cell_type": "code",
     "collapsed": false,
     "input": [
      "concatenated_signal = concatenate_segments(segments[ind], fs)"
     ],
     "language": "python",
     "metadata": {},
     "outputs": [],
     "prompt_number": 77
    },
    {
     "cell_type": "heading",
     "level": 2,
     "metadata": {},
     "source": [
      "Step 5: Listen to Segments"
     ]
    },
    {
     "cell_type": "markdown",
     "metadata": {},
     "source": [
      "Listen to the sorted segments. What do you hear?"
     ]
    },
    {
     "cell_type": "code",
     "collapsed": false,
     "input": [
      "Audio?"
     ],
     "language": "python",
     "metadata": {},
     "outputs": [],
     "prompt_number": 78
    },
    {
     "cell_type": "heading",
     "level": 2,
     "metadata": {},
     "source": [
      "Bonus"
     ]
    },
    {
     "cell_type": "markdown",
     "metadata": {},
     "source": [
      "Repeat the steps above for the following audio files:"
     ]
    },
    {
     "cell_type": "code",
     "collapsed": false,
     "input": [
      "url = 'https://ccrma.stanford.edu/workshops/mir2014/audio/CongaGroove-mono.wav'\n",
      "url = 'https://ccrma.stanford.edu/workshops/mir2014/audio/125BOUNC-mono.WAV'"
     ],
     "language": "python",
     "metadata": {},
     "outputs": [],
     "prompt_number": 79
    }
   ],
   "metadata": {}
  }
 ]
}