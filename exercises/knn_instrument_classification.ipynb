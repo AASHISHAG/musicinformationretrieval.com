{
 "metadata": {
  "name": "",
  "signature": "sha256:eaf3c7682d4b7de77074a247b83c31a5dd8257441eb59f23d9951f0ae352f13e"
 },
 "nbformat": 3,
 "nbformat_minor": 0,
 "worksheets": [
  {
   "cells": [
    {
     "cell_type": "heading",
     "level": 1,
     "metadata": {},
     "source": [
      "Exercise: Instrument Classification using K-NN"
     ]
    },
    {
     "cell_type": "markdown",
     "metadata": {},
     "source": [
      "This is an *exercise* notebook. It's a playground for your Python code. Feel free to write and execute your code without fear.\n",
      "\n",
      "When you see a cell that looks like this:"
     ]
    },
    {
     "cell_type": "code",
     "collapsed": false,
     "input": [
      "plot?"
     ],
     "language": "python",
     "metadata": {},
     "outputs": [],
     "prompt_number": 1
    },
    {
     "cell_type": "markdown",
     "metadata": {},
     "source": [
      "that is a cue to use a particular command, in this case, `plot`. Run the cell to see documentation for that command. (To quickly close the Help window, press `q`.) \n",
      "\n",
      "For more documentation, visit the links in the Help menu above. Also see the other notebooks; all the exercises here are covered somewhere else in separate notebooks."
     ]
    },
    {
     "cell_type": "markdown",
     "metadata": {},
     "source": [
      "This exercise is loosely based upon \"Lab 1\" from previous MIR workshops ([2010](https://ccrma.stanford.edu/workshops/mir2010/Lab1_2010.pdf))."
     ]
    },
    {
     "cell_type": "heading",
     "level": 2,
     "metadata": {},
     "source": [
      "Goals"
     ]
    },
    {
     "cell_type": "markdown",
     "metadata": {},
     "source": [
      "1. Extract spectral features from an audio signal.\n",
      "2. Train a K-Nearest Neighbor classifier.\n",
      "3. Use the classifier to classify beats in a drum loop."
     ]
    },
    {
     "cell_type": "heading",
     "level": 2,
     "metadata": {},
     "source": [
      "Step 1: Retrieve Audio, Detect Onsets, and Segment"
     ]
    },
    {
     "cell_type": "markdown",
     "metadata": {},
     "source": [
      "[Follow the same steps here.](feature_sonification.ipynb#Step-1:-Retrieve-Audio)\n",
      "\n",
      "1. Download the file `simpleLoop.wav` onto your local machine.\n",
      "1. Save the audio signal into an array.\n",
      "1. Find the times, in seconds, when onsets occur in the audio signal.\n",
      "1. Save into an array, `segments`, 100-ms segments beginning at each onset."
     ]
    },
    {
     "cell_type": "code",
     "collapsed": false,
     "input": [
      "import urllib\n",
      "url = 'https://ccrma.stanford.edu/workshops/mir2014/audio/simpleLoop.wav'\n",
      "urllib.urlretrieve?"
     ],
     "language": "python",
     "metadata": {},
     "outputs": [],
     "prompt_number": 2
    },
    {
     "cell_type": "code",
     "collapsed": false,
     "input": [
      "from essentia.standard import MonoLoader\n",
      "MonoLoader?"
     ],
     "language": "python",
     "metadata": {},
     "outputs": [],
     "prompt_number": 3
    },
    {
     "cell_type": "code",
     "collapsed": false,
     "input": [
      "fs = 44100\n",
      "frame_sz = int(0.1*fs)\n",
      "import essentia\n",
      "segments = essentia.array([rand(frame_sz), rand(frame_sz)]) # placeholder"
     ],
     "language": "python",
     "metadata": {},
     "outputs": [],
     "prompt_number": 4
    },
    {
     "cell_type": "heading",
     "level": 2,
     "metadata": {},
     "source": [
      "Step 2: Extract MFCCs"
     ]
    },
    {
     "cell_type": "markdown",
     "metadata": {},
     "source": [
      "For each segment, compute the MFCCs."
     ]
    },
    {
     "cell_type": "code",
     "collapsed": false,
     "input": [
      "from essentia.standard import MFCC, Spectrum, Windowing\n",
      "hamming_window = Windowing(type='hamming')\n",
      "spectrum = Spectrum()  # we just want the magnitude spectrum\n",
      "mfcc = MFCC()\n",
      "\n",
      "mfccs = array([mfcc(spectrum(hamming_window(frame)))[1]\n",
      "               for frame in segments])\n",
      "\n",
      "imshow(mfccs[:,1:].T, origin='lower', aspect='auto', interpolation='nearest') # Ignore the 0th MFCC\n",
      "yticks(range(12), range(1,13)) # Ignore the 0th MFCC\n",
      "ylabel('MFCC Coefficient Index')\n",
      "xlabel('Segment Index')"
     ],
     "language": "python",
     "metadata": {},
     "outputs": [
      {
       "metadata": {},
       "output_type": "pyout",
       "prompt_number": 5,
       "text": [
        "<matplotlib.text.Text at 0x47e3150>"
       ]
      },
      {
       "metadata": {},
       "output_type": "display_data",
       "png": "[encoded data removed]",
       "text": [
        "<matplotlib.figure.Figure at 0x47ddd50>"
       ]
      }
     ],
     "prompt_number": 5
    },
    {
     "cell_type": "heading",
     "level": 2,
     "metadata": {},
     "source": [
      "Step 3: Train K-NN Classifier"
     ]
    },
    {
     "cell_type": "markdown",
     "metadata": {},
     "source": [
      "For training, see [Training Data](#Training-Data) below.\n",
      "\n",
      "For more on K-NN, see the [notebook on K-NN](../notebooks/knn.ipynb)."
     ]
    },
    {
     "cell_type": "heading",
     "level": 2,
     "metadata": {},
     "source": [
      "Step 4: Run the Classifier"
     ]
    },
    {
     "cell_type": "heading",
     "level": 2,
     "metadata": {},
     "source": [
      "Step 5: Sonify the Classifier Output"
     ]
    },
    {
     "cell_type": "markdown",
     "metadata": {},
     "source": [
      "Play a \"beep\" for each detected kick drum."
     ]
    },
    {
     "cell_type": "code",
     "collapsed": false,
     "input": [
      "from essentia.standard import AudioOnsetsMarker\n",
      "AudioOnsetsMarker?"
     ],
     "language": "python",
     "metadata": {},
     "outputs": [],
     "prompt_number": 6
    },
    {
     "cell_type": "markdown",
     "metadata": {},
     "source": [
      "Play a \"beep\" for each detected snare drum."
     ]
    },
    {
     "cell_type": "code",
     "collapsed": false,
     "input": [
      "from essentia.standard import AudioOnsetsMarker\n",
      "AudioOnsetsMarker?"
     ],
     "language": "python",
     "metadata": {},
     "outputs": [],
     "prompt_number": 7
    },
    {
     "cell_type": "heading",
     "level": 2,
     "metadata": {},
     "source": [
      "Bonus"
     ]
    },
    {
     "cell_type": "markdown",
     "metadata": {},
     "source": [
      "In addition to the MFCCs, extract the following features:\n",
      "\n",
      "- spectral centroid\n",
      "- spectral spread\n",
      "- spectral skewness\n",
      "- spectral kurtosis. "
     ]
    },
    {
     "cell_type": "code",
     "collapsed": false,
     "input": [
      "from essentia.standard import CentralMoments, DistributionShape\n",
      "DistributionShape?"
     ],
     "language": "python",
     "metadata": {},
     "outputs": [],
     "prompt_number": 8
    },
    {
     "cell_type": "markdown",
     "metadata": {},
     "source": [
      "Re-train the classifier, and re-run the classifier over the test audio signal. Do the results change?"
     ]
    },
    {
     "cell_type": "markdown",
     "metadata": {},
     "source": [
      "Repeat the steps above for the following audio files:"
     ]
    },
    {
     "cell_type": "code",
     "collapsed": false,
     "input": [
      "url = 'https://ccrma.stanford.edu/workshops/mir2014/audio/CongaGroove-mono.wav'\n",
      "url = 'https://ccrma.stanford.edu/workshops/mir2014/audio/125BOUNC-mono.WAV'"
     ],
     "language": "python",
     "metadata": {},
     "outputs": [],
     "prompt_number": 9
    },
    {
     "cell_type": "heading",
     "level": 2,
     "metadata": {},
     "source": [
      "Training Data"
     ]
    },
    {
     "cell_type": "markdown",
     "metadata": {},
     "source": [
      "First, we want to analyze and feature extract a small collection of audio samples - storing their feature data as our \"training data\".  The commands below read all of the drum example .wav files from the MIR web site into an array, `snare_file_list`.  \n",
      "\n",
      "Let's define a function to retrieve a list of URLs from a text file."
     ]
    },
    {
     "cell_type": "code",
     "collapsed": false,
     "input": [
      "import urllib2\n",
      "\n",
      "def process_corpus(corpus_URL):\n",
      "    \"\"\"Read a list of files to process from the text file at corpusURL. Return a list of URLs\"\"\" \n",
      "    # Open and read each line\n",
      "    url_list_text_data = urllib2.urlopen(corpus_URL) # it's a file like object and works just like a file\n",
      "    for file_URL in url_list_text_data: # files are iterable\n",
      "        yield file_URL.rstrip()"
     ],
     "language": "python",
     "metadata": {},
     "outputs": [],
     "prompt_number": 1
    },
    {
     "cell_type": "markdown",
     "metadata": {},
     "source": [
      "Use these commands to read in a list of filenames (samples) in a directory, replacing the URL with a URL to a list of URLs (one per line) indicating where the audio / drum samples are stored."
     ]
    },
    {
     "cell_type": "code",
     "collapsed": false,
     "input": [
      "snares_URL = \"https://ccrma.stanford.edu/workshops/mir2014/SnareCorpus.txt\"\n",
      "snare_file_list = [audio_file_URL for audio_file_URL in process_corpus(snares_URL)]"
     ],
     "language": "python",
     "metadata": {},
     "outputs": [],
     "prompt_number": 2
    },
    {
     "cell_type": "code",
     "collapsed": false,
     "input": [
      "kicks_URL = \"https://ccrma.stanford.edu/workshops/mir2014/KickCorpus.txt\"\n",
      "kick_file_list = [audio_file_URL for audio_file_URL in process_corpus(kicks_URL)]"
     ],
     "language": "python",
     "metadata": {},
     "outputs": [],
     "prompt_number": 3
    },
    {
     "cell_type": "markdown",
     "metadata": {},
     "source": [
      "To access the filenames contained in the array, use the square brackets [ ] to get to the element that you want to access. For example, to access the text URL file name of the first file in the list, you would type:"
     ]
    },
    {
     "cell_type": "code",
     "collapsed": false,
     "input": [
      "snare_URL = snare_file_list[0]\n",
      "snare_URL"
     ],
     "language": "python",
     "metadata": {},
     "outputs": [
      {
       "metadata": {},
       "output_type": "pyout",
       "prompt_number": 5,
       "text": [
        "'https://ccrma.stanford.edu/workshops/mir2014/audio/drum%20samples/snares/SNARE_01_01.WAV'"
       ]
      }
     ],
     "prompt_number": 5
    },
    {
     "cell_type": "markdown",
     "metadata": {},
     "source": [
      "When we feature extract a sample collection, we need to sequentially access audio files, segment them (or not), and feature extract them.  Loading a lot of audio files into memory is not always a feasible or desirable operation, so you will create a loop which loads an audio file, feature extracts it, and closes  the audio file.  Note that the only information that we retain in memory are the features that are extracted.\n",
      "\n",
      "Create a loop which reads in an audio file, extracts the zero crossing rate, and some spectral statistics. You can use the \"in\" operator to retrieve each audio file URL from process_corpus(), as used above. The feature information for each audio file (the \"feature vector\") should be stored as a feature array, with columns being the features and rows for each file. For example:"
     ]
    },
    {
     "cell_type": "code",
     "collapsed": false,
     "input": [
      "from essentia.standard import ZeroCrossingRate\n",
      "zcr = ZeroCrossingRate()\n",
      "\n",
      "\n",
      "number_of_files = 20\n",
      "number_of_features = 5\n",
      "features_snare = []"
     ],
     "language": "python",
     "metadata": {},
     "outputs": [],
     "prompt_number": 14
    },
    {
     "cell_type": "markdown",
     "metadata": {},
     "source": [
      " For example, when populated, features_snare might look like:\n",
      " \n",
      "    features_snare =\n",
      "\n",
      "             0.5730    1.9183    2.9713    0.0004  0.0002\n",
      "             0.4750    1.4834    2.4463    0.0004  0.0012\n",
      "             0.5900    2.2857    3.1788    0.0003  0.0041\n",
      "             0.5090    1.6622    2.6369    0.0004  0.0051\n",
      "             0.4860    1.4758    2.2085    0.0004  0.0021\n",
      "             0.6060    2.2119    3.2798    0.0004  0.0651\n",
      "             0.4990    2.0607    2.7654    0.0004  0.0721\n",
      "             0.6360    2.3153    3.0256    0.0003  0.0221\n",
      "             0.5490    2.0137    3.0342    0.0004  0.0016\n",
      "             0.5900    2.2857    3.1788    0.0003  0.0012\n",
      " \n",
      " Within your loop, here's a reminder how to read in your wav files, using an array of audio file URLs:"
     ]
    },
    {
     "cell_type": "code",
     "collapsed": false,
     "input": [
      "import urllib\n",
      "from essentia.standard import MonoLoader, ZeroCrossingRate, Centroid, CentralMoments, DistributionShape, Spectrum, Windowing\n",
      "hamming_window = Windowing(type='hamming')\n",
      "zcr = ZeroCrossingRate()\n",
      "centroid = Centroid()\n",
      "spectrum = Spectrum()\n",
      "centralmoments = CentralMoments()\n",
      "distributionshape = DistributionShape()\n",
      "\n",
      "fs = 44100\n",
      "features_table = []\n",
      "for url in snare_file_list + kick_file_list:\n",
      "    urllib.urlretrieve(url, filename='/tmp/localfile.wav')\n",
      "    audio = MonoLoader(filename = '/tmp/localfile.wav', sampleRate = fs)() \n",
      "    frame = audio[:int(0.2*fs)]\n",
      "    feature_vector = []\n",
      "    feature_vector.append( zcr(frame) )\n",
      "    spectral_magnitude = spectrum(hamming_window(frame))\n",
      "    feature_vector.append( centroid(spectral_magnitude) )\n",
      "    spectral_moments = distributionshape(centralmoments(spectral_magnitude))\n",
      "    feature_vector.extend( spectral_moments )\n",
      "    features_table.append( feature_vector )\n",
      "\n",
      "\n",
      "features_table = array(features_table)\n",
      "print features_table"
     ],
     "language": "python",
     "metadata": {},
     "outputs": [
      {
       "output_type": "stream",
       "stream": "stdout",
       "text": [
        "[[  1.62471652e-01   2.36405745e-01   4.00112346e-02   7.53566146e-01\n",
        "   -1.77525520e-01]\n",
        " [  1.16666667e-01   2.21813351e-01   3.49240005e-02   6.74486637e-01\n",
        "   -4.22939777e-01]\n",
        " [  1.21882088e-01   2.16630742e-01   3.44936140e-02   6.97950125e-01\n",
        "   -4.12385702e-01]\n",
        " [  9.18367356e-02   2.04460323e-01   3.14886980e-02   8.07589829e-01\n",
        "   -6.42979145e-02]\n",
        " [  1.61904767e-01   2.71532953e-01   4.19509038e-02   5.50324261e-01\n",
        "   -4.77055550e-01]\n",
        " [  1.30045354e-01   2.28676051e-01   3.80903184e-02   8.45433593e-01\n",
        "   -2.10921764e-02]\n",
        " [  1.40249431e-01   2.51602560e-01   4.26780917e-02   7.59979486e-01\n",
        "   -2.06123590e-01]\n",
        " [  1.52721092e-01   2.53082067e-01   4.44976576e-02   7.05894053e-01\n",
        "   -2.62273788e-01]\n",
        " [  1.33673474e-01   2.60320574e-01   4.03219834e-02   6.03728771e-01\n",
        "   -3.55994463e-01]\n",
        " [  1.17913835e-01   2.16710851e-01   3.01928632e-02   8.90169322e-01\n",
        "    4.26502228e-01]\n",
        " [  6.80272095e-03   5.47488108e-02   1.58221014e-02   3.10297251e+00\n",
        "    1.05381603e+01]\n",
        " [  5.44217695e-03   3.13566811e-02   7.53624039e-03   4.57224989e+00\n",
        "    2.59836254e+01]\n",
        " [  4.08163248e-03   1.71935484e-02   2.87185842e-03   7.22230673e+00\n",
        "    7.60733871e+01]\n",
        " [  4.30838997e-03   4.21788730e-02   1.12768942e-02   3.60826254e+00\n",
        "    1.51811485e+01]\n",
        " [  6.12244895e-03   3.37548926e-02   1.01857409e-02   4.76424742e+00\n",
        "    2.65034351e+01]\n",
        " [  5.55555569e-03   2.49018725e-02   6.05471013e-03   5.12525940e+00\n",
        "    3.25076065e+01]\n",
        " [  5.32879820e-03   2.85752080e-02   7.12108333e-03   5.20154762e+00\n",
        "    3.39053345e+01]\n",
        " [  4.30838997e-03   3.50905433e-02   9.30536166e-03   4.14755917e+00\n",
        "    2.00502682e+01]\n",
        " [  5.89569146e-03   3.92675437e-02   8.93500820e-03   3.75893021e+00\n",
        "    1.77870655e+01]\n",
        " [  5.78231271e-03   2.72752997e-02   7.65201543e-03   5.09223413e+00\n",
        "    3.01892776e+01]]\n"
       ]
      }
     ],
     "prompt_number": 20
    },
    {
     "cell_type": "code",
     "collapsed": false,
     "input": [
      "from sklearn import preprocessing\n",
      "import numpy as np\n",
      "\n",
      "scaler = preprocessing.MinMaxScaler(feature_range = (-1, 1))\n",
      "training_features = scaler.fit_transform(features_table)\n",
      "\n",
      "scaler.get_params()"
     ],
     "language": "python",
     "metadata": {},
     "outputs": [
      {
       "metadata": {},
       "output_type": "pyout",
       "prompt_number": 33,
       "text": [
        "{'copy': True, 'feature_range': (-1, 1)}"
       ]
      }
     ],
     "prompt_number": 33
    },
    {
     "cell_type": "code",
     "collapsed": false,
     "input": [
      "from sklearn.neighbors import KNeighborsClassifier\n",
      "\n",
      "model_snare = KNeighborsClassifier(n_neighbors = 1)\n",
      "model_snare.fit(training_features, concatenate([zeros(10), ones(10)]))"
     ],
     "language": "python",
     "metadata": {},
     "outputs": [
      {
       "metadata": {},
       "output_type": "pyout",
       "prompt_number": 29,
       "text": [
        "KNeighborsClassifier(algorithm='auto', leaf_size=30, metric='minkowski',\n",
        "           n_neighbors=1, p=2, weights='uniform')"
       ]
      }
     ],
     "prompt_number": 29
    },
    {
     "cell_type": "code",
     "collapsed": false,
     "input": [
      "\n",
      "print model_snare.predict(training_features[-1])"
     ],
     "language": "python",
     "metadata": {},
     "outputs": [
      {
       "output_type": "stream",
       "stream": "stdout",
       "text": [
        "[ 1.]\n"
       ]
      }
     ],
     "prompt_number": 32
    },
    {
     "cell_type": "code",
     "collapsed": false,
     "input": [],
     "language": "python",
     "metadata": {},
     "outputs": []
    },
    {
     "cell_type": "code",
     "collapsed": false,
     "input": [],
     "language": "python",
     "metadata": {},
     "outputs": []
    },
    {
     "cell_type": "code",
     "collapsed": false,
     "input": [],
     "language": "python",
     "metadata": {},
     "outputs": []
    },
    {
     "cell_type": "code",
     "collapsed": false,
     "input": [],
     "language": "python",
     "metadata": {},
     "outputs": []
    },
    {
     "cell_type": "code",
     "collapsed": false,
     "input": [],
     "language": "python",
     "metadata": {},
     "outputs": []
    },
    {
     "cell_type": "heading",
     "level": 2,
     "metadata": {},
     "source": [
      "Appendix"
     ]
    },
    {
     "cell_type": "code",
     "collapsed": false,
     "input": [
      "from urlparse import urljoin\n",
      "\n",
      "kick_files = ['Bass_Drum_%02d_V01.WAV' % n\n",
      "              for n in range(1,11)]\n",
      "\n",
      "snare_files = ['Bass_Drum_%02d_V01.WAV' % n\n",
      "              for n in range(1,11)]\n",
      "\n",
      "for kick_file in kick_files:\n",
      "    url = urljoin('https://ccrma.stanford.edu/workshops/mir2014/audio/drum%%20samples/kicks/', kick_file)\n",
      "    urllib.urlretrieve(url, filename=kick_file)\n",
      "#kicks = [MonoLoader(filename=filename) for filename in kick_files]\n",
      "#snares = [MonoLoader(filename=filename) for filename in kick_files]\n",
      "\n",
      "%ls"
     ],
     "language": "python",
     "metadata": {},
     "outputs": [
      {
       "output_type": "stream",
       "stream": "stdout",
       "text": [
        "Bass_Drum_01_V01.WAV  Bass_Drum_04_V01.WAV  Bass_Drum_07_V01.WAV  Bass_Drum_10_V01.WAV                 nmf_source_separation.ipynb\r\n",
        "Bass_Drum_02_V01.WAV  Bass_Drum_05_V01.WAV  Bass_Drum_08_V01.WAV  feature_sonification.ipynb\r\n",
        "Bass_Drum_03_V01.WAV  Bass_Drum_06_V01.WAV  Bass_Drum_09_V01.WAV  knn_instrument_classification.ipynb\r\n"
       ]
      }
     ],
     "prompt_number": 16
    },
    {
     "cell_type": "markdown",
     "metadata": {},
     "source": [
      "Archived material:\n",
      "\n",
      "Read a training set of drum samples. For each test signal, extract MFCCs, and use `mean` to obtain one MFCC vector per signal.\n",
      "\n",
      "Train a K-NN classifier using test signals. When training, discard the 0th MFCC coefficient, because it only represents the energy in the frame and does not add any discriminative power. \n",
      "\n",
      "\n",
      "\n",
      "For each segment in the test audio signal, feed it into the trained K-NN classifier, and save the label.\n",
      "\n",
      "4.  First, extract all of the feature data for the kick drums and store it in a feature array.  (For my example, above, I'd put it in \"features_kick\")\n",
      "\n",
      "5.  Next, extract all of the feature data for the snares, storing them in a different array. \n",
      "Again, the kick and snare features should be separated in two different arrays!\n",
      " \n",
      "OK, no more help.  The rest is up to you!"
     ]
    }
   ],
   "metadata": {}
  }
 ]
}