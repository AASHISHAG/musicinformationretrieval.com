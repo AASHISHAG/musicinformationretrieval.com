{
 "metadata": {
  "name": "",
  "signature": "sha256:bb2e49be0f0cc1f2f28b5e822902210b4d295112f04bd4c301dc435f7be7ebf4"
 },
 "nbformat": 3,
 "nbformat_minor": 0,
 "worksheets": [
  {
   "cells": [
    {
     "cell_type": "heading",
     "level": 1,
     "metadata": {},
     "source": [
      "Exercise: Instrument Classification using K-NN"
     ]
    },
    {
     "cell_type": "markdown",
     "metadata": {},
     "source": [
      "Read a drum loop.\n",
      "\n",
      "Detect onsets. Save the onset times.\n",
      "\n",
      "At each onset, extract one 100-ms segment from the audio signal.\n",
      "\n",
      "For each segment, compute the MFCCs.\n",
      "\n",
      "Read a training set of drum samples. For each test signal, extract MFCCs, and use `mean` to obtain one MFCC vector per signal.\n",
      "\n",
      "Train a K-NN classifier using test signals. When training, discard the 0th MFCC coefficient, because it only represents the energy in the frame and does not add any discriminative power. \n",
      "\n",
      "\n",
      "\n",
      "For each segment in the test audio signal, feed it into the trained K-NN classifier, and save the label.\n",
      "\n",
      "Play a \"beep\" for each detected kick drum.\n",
      "\n",
      "Play a \"beep\" for each detected snare drum.\n",
      "\n",
      "In addition to the MFCCs, extract the delta-MFCCs. Re-train the classifier, and re-run the classifier over the test audio signal. Do the results change?\n",
      "\n",
      "Repeat for other audio files."
     ]
    }
   ],
   "metadata": {}
  }
 ]
}