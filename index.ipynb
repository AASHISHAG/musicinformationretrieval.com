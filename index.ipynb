{
 "cells": [
  {
   "cell_type": "markdown",
   "metadata": {},
   "source": [
    "<a href=\"https://github.com/stevetjoa/stanford-mir\"><img style=\"position: absolute; top: 0; right: 0; border: 0;\" src=\"https://camo.githubusercontent.com/a6677b08c955af8400f44c6298f40e7d19cc5b2d/68747470733a2f2f73332e616d617a6f6e6177732e636f6d2f6769746875622f726962626f6e732f666f726b6d655f72696768745f677261795f3664366436642e706e67\" alt=\"Fork me on GitHub\" data-canonical-src=\"https://s3.amazonaws.com/github/ribbons/forkme_right_gray_6d6d6d.png\"></a>"
   ]
  },
  {
   "cell_type": "markdown",
   "metadata": {},
   "source": [
    "# Notes on Music Information Retrieval"
   ]
  },
  {
   "cell_type": "markdown",
   "metadata": {},
   "source": [
    "## Introduction"
   ]
  },
  {
   "cell_type": "markdown",
   "metadata": {},
   "source": [
    "1.   [About This Site](about.html)\n",
    "1.   [Python Basics](python_basics.html)\n",
    "1.   [Getting Good at IPython](get_good_at_ipython.html) ([ipynb](get_good_at_ipython.ipynb))\n",
    "1.   [Using Audio in IPython](ipython_audio.html) ([ipynb](ipython_audio.ipynb))\n",
    "1.   [NumPy and SciPy Basics](numpy_basics.html) ([ipynb](numpy_basics.ipynb))"
   ]
  },
  {
   "cell_type": "markdown",
   "metadata": {},
   "source": [
    "## Chapter 1: Basic Signal Manipulation"
   ]
  },
  {
   "cell_type": "markdown",
   "metadata": {},
   "source": [
    "1.  [Signal Representations](signal_representations.html) ([ipynb](signal_representations.ipynb))\n",
    "1.  [Onset Detection](onset_detection.html) ([ipynb](onset_detection.ipynb))\n",
    "1.  [Beat Tracking](beat_tracking.html) ([ipynb](beat_tracking.ipynb))\n",
    "1.  [Tempo Estimation](tempo_estimation.html) ([ipynb](tempo_estimation.ipynb))\n",
    "1.  [Exercise: Understanding Audio Features through Sonification](feature_sonification.html) ([ipynb](feature_sonification.ipynb))"
   ]
  },
  {
   "cell_type": "markdown",
   "metadata": {},
   "source": [
    "## Chapter 2: Feature Extraction"
   ]
  },
  {
   "cell_type": "markdown",
   "metadata": {},
   "source": [
    "1.  [Basic Feature Extraction](basic_feature_extraction.html) ([ipynb](basic_feature_extraction.ipynb))\n",
    "1.  [Spectral Features](spectral_features.html) ([ipynb](spectral_features.ipynb))\n",
    "1.  [Mel-Frequency Cepstral Coefficients](mfcc.html) ([ipynb](mfcc.ipynb))"
   ]
  },
  {
   "cell_type": "markdown",
   "metadata": {},
   "source": [
    "## Chapter 3: Classification"
   ]
  },
  {
   "cell_type": "markdown",
   "metadata": {},
   "source": [
    "1.  [Basic Supervised Classification](basic_supervised_classification.html) ([ipynb](basic_supervised_classification.ipynb))\n",
    "1.  [K-Nearest Neighbor Classification](knn.html) ([ipynb](knn.ipynb))\n",
    "1.  [Exercise: K-Nearest Neighbor Instrument Classification](knn_instrument_classification.html) ([ipynb](knn_instrument_classification.ipynb))\n",
    "1.  [K-Means Clustering](kmeans.html) ([ipynb](kmeans.ipynb))\n",
    "1.  [Exercise: Unsupervised Instrument Classification using K-Means](kmeans_instrument_classification.html) ([ipynb](kmeans_instrument_classification.ipynb))"
   ]
  },
  {
   "cell_type": "markdown",
   "metadata": {},
   "source": [
    "## Chapter 4: Matrix Factorization and Evaluation"
   ]
  },
  {
   "cell_type": "markdown",
   "metadata": {},
   "source": [
    "1.  [Nonnegative Matrix Factorization](nmf.html) ([ipynb](nmf.ipynb))\n",
    "1.  [Exercise: Source Separation using NMF](nmf_source_separation.html) ([ipynb](nmf_source_separation.ipynb))\n",
    "1.  [Classification of Separated Signals](notebooks/classify_separated_signals.ipynb)\n",
    "1.  [Cross Validation](notebooks/cross_validation.ipynb)\n",
    "1.  [Evaluation](notebooks/evaluation.ipynb)"
   ]
  },
  {
   "cell_type": "markdown",
   "metadata": {},
   "source": [
    "## Chapter 5: Music Fingerprinting"
   ]
  },
  {
   "cell_type": "markdown",
   "metadata": {},
   "source": [
    "1. [Locality Sensitive Hashing](notebooks/lsh_fingerprinting.ipynb)"
   ]
  },
  {
   "cell_type": "markdown",
   "metadata": {},
   "source": [
    "## Appendix"
   ]
  },
  {
   "cell_type": "markdown",
   "metadata": {},
   "source": [
    "1.  [Segmentation](segmentation.html) ([ipynb](segmentation.ipynb))\n",
    "1.  [Beat Tracking in Essentia](beat_tracking_essentia.html) ([ipynb](beat_tracking_essentia.ipynb))\n",
    "1.  [Spectral Features in Essentia](spectral_features_essentia.html) ([ipynb](spectral_features_essentia.ipynb))\n",
    "1.  [Feature Extraction in Essentia](feature_extraction_essentia.html) ([ipynb](feature_extraction_essentia.ipynb))"
   ]
  },
  {
   "cell_type": "markdown",
   "metadata": {},
   "source": [
    "## More (work in progress)"
   ]
  },
  {
   "cell_type": "markdown",
   "metadata": {},
   "source": [
    "1.  [Tonal Descriptors: Pitch and Chroma](notebooks/tonal.ipynb)\n",
    "\n",
    "\n"
   ]
  }
 ],
 "metadata": {
  "kernelspec": {
   "display_name": "Python 2",
   "language": "python",
   "name": "python2"
  },
  "language_info": {
   "codemirror_mode": {
    "name": "ipython",
    "version": 2
   },
   "file_extension": ".py",
   "mimetype": "text/x-python",
   "name": "python",
   "nbconvert_exporter": "python",
   "pygments_lexer": "ipython2",
   "version": "2.7.6"
  }
 },
 "nbformat": 4,
 "nbformat_minor": 0
}
