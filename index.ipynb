{
 "cells": [
  {
   "cell_type": "markdown",
   "metadata": {},
   "source": [
    "# Music Information Retrieval"
   ]
  },
  {
   "cell_type": "markdown",
   "metadata": {},
   "source": [
    "## Introduction"
   ]
  },
  {
   "cell_type": "markdown",
   "metadata": {},
   "source": [
    "1.   [About musicinformationretrieval.com](about.html)\n",
    "1.   [Python Basics](python_basics.html)\n",
    "1.   [Getting Good at IPython](notebooks/get_good_at_ipython.ipynb)\n",
    "1.   [Using Audio in IPython](ipython_audio.html) ([ipynb](ipython_audio.ipynb))\n",
    "1.   [NumPy and SciPy Basics](numpy_basics.html) ([ipynb](numpy_basics.ipynb))"
   ]
  },
  {
   "cell_type": "markdown",
   "metadata": {},
   "source": [
    "## Chapter 1: Basic Signal Manipulation"
   ]
  },
  {
   "cell_type": "markdown",
   "metadata": {},
   "source": [
    "1.  [Segmentation](notebooks/segmentation.ipynb)\n",
    "1.  [Signal Representations](notebooks/signal_representations.ipynb)\n",
    "1.  [Onset Detection](notebooks/onset_detection.ipynb)\n",
    "1.  [Beat Tracking](notebooks/beat_tracking.ipynb)\n",
    "1.  [Exercise: Understanding Audio Features through Sonification](exercises/feature_sonification.ipynb)"
   ]
  },
  {
   "cell_type": "markdown",
   "metadata": {},
   "source": [
    "## Chapter 2: Spectral Feature Extraction and Classification"
   ]
  },
  {
   "cell_type": "markdown",
   "metadata": {},
   "source": [
    "1.  [Spectral Features](notebooks/spectral_features.ipynb)\n",
    "1.  [Mel-Frequency Cepstral Coefficients](notebooks/mfcc.ipynb)\n",
    "1.  [K-Nearest Neighbor Instrument Classification](notebooks/knn_instrument_classification.ipynb)"
   ]
  },
  {
   "cell_type": "markdown",
   "metadata": {},
   "source": [
    "## Chapter 3: Unsupervised Classification"
   ]
  },
  {
   "cell_type": "markdown",
   "metadata": {},
   "source": [
    "1.  [K-Means Clustering](notebooks/kmeans.ipynb)\n",
    "1.  [Exercise: Unsupervised Instrument Classification using K-Means](exercises/kmeans_instrument_classification.ipynb)"
   ]
  },
  {
   "cell_type": "markdown",
   "metadata": {},
   "source": [
    "## Chapter 4: Matrix Factorization and Evaluation"
   ]
  },
  {
   "cell_type": "markdown",
   "metadata": {},
   "source": [
    "1.  [Nonnegative Matrix Factorization](notebooks/nmf.ipynb)\n",
    "1.  [Exercise: Source Separation using NMF](exercises/nmf_source_separation.ipynb)\n",
    "1.  [Classification of Separated Signals](notebooks/classify_separated_signals.ipynb)\n",
    "1.  [Cross Validation](notebooks/cross_validation.ipynb)\n",
    "1.  [Evaluation](notebooks/evaluation.ipynb)"
   ]
  },
  {
   "cell_type": "markdown",
   "metadata": {},
   "source": [
    "## Chapter 5: Music Fingerprinting"
   ]
  },
  {
   "cell_type": "markdown",
   "metadata": {},
   "source": [
    "1. [Locality Sensitive Hashing](notebooks/lsh_fingerprinting.ipynb)"
   ]
  },
  {
   "cell_type": "markdown",
   "metadata": {},
   "source": [
    "## More (work in progress)"
   ]
  },
  {
   "cell_type": "markdown",
   "metadata": {},
   "source": [
    "1.  [Tonal Descriptors: Pitch and Chroma](notebooks/tonal.ipynb)\n",
    "1.  [Feature Extraction](notebooks/feature_extraction.ipynb)\n",
    "1.  [Tempo Estimation](notebooks/tempo_estimation.ipynb)\n"
   ]
  }
 ],
 "metadata": {
  "kernelspec": {
   "display_name": "Python 2",
   "language": "python",
   "name": "python2"
  },
  "language_info": {
   "codemirror_mode": {
    "name": "ipython",
    "version": 2
   },
   "file_extension": ".py",
   "mimetype": "text/x-python",
   "name": "python",
   "nbconvert_exporter": "python",
   "pygments_lexer": "ipython2",
   "version": "2.7.6"
  }
 },
 "nbformat": 4,
 "nbformat_minor": 0
}
