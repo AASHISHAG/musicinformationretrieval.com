{
 "metadata": {
  "name": "",
  "signature": "sha256:cd4472e8ac0f4f801a3205494dfe44e1ada8a471f6bfeab2687bc72cc86c3a63"
 },
 "nbformat": 3,
 "nbformat_minor": 0,
 "worksheets": [
  {
   "cells": [
    {
     "cell_type": "markdown",
     "metadata": {},
     "source": [
      "About This Workshop\n",
      "===================\n",
      "\n",
      "The first CCRMA summer workshop on music information retrieval was taught by Jay LeBoeuf in 2008."
     ]
    },
    {
     "cell_type": "markdown",
     "metadata": {},
     "source": [
      "Instructors\n",
      "-----\n",
      "\n",
      "- 2008: Jay LeBoeuf\n",
      "- 2009: Jay LeBoeuf, Kyogu Lee\n",
      "- 2010: Jay LeBoeuf, Rebecca Fiebrink\n",
      "- 2011: Jay LeBoeuf, Stephen Pope, Leigh Smith, Steve Tjoa\n",
      "- 2012: Jay LeBoeuf, Leigh Smith, Steve Tjoa\n",
      "- 2013: Jay LeBoeuf, Leigh Smith, Steve Tjoa\n",
      "- 2014: Jay LeBoeuf, Leigh Smith, Steve Tjoa\n"
     ]
    },
    {
     "cell_type": "heading",
     "level": 2,
     "metadata": {},
     "source": [
      "Guest Lecturers"
     ]
    },
    {
     "cell_type": "markdown",
     "metadata": {},
     "source": [
      "- 2011: Rebecca Fiebrink, Doug Eck, George Tzanetakis\n",
      "- 2012: Oscar Celma, Michael Mandel\n",
      "- 2013: Ching-Wei Chen, Nick Bryan, Gautham Mysore\n",
      "- 2014: Stephen Pope, Andreas Ehmann"
     ]
    },
    {
     "cell_type": "heading",
     "level": 2,
     "metadata": {},
     "source": [
      "Alumni"
     ]
    },
    {
     "cell_type": "markdown",
     "metadata": {},
     "source": [
      "- 2011: Chris Colatos, Jeff Albert, Kamlesh Lakshminarayanan, Sean Zhang, Eli Stine, David Bird, Gina Collecchia, Dekun Zou, Bill Paseman, John Amuedo"
     ]
    },
    {
     "cell_type": "markdown",
     "metadata": {},
     "source": [
      "Experimenting\n",
      "-----\n",
      "\n",
      "Code cells are meant to be interactive. We may present you with several options for experimentation, e.g. choices of variables, audio files, and algorithms. For example, if you see a cell like this, then try all of the possible options by uncommenting the desired line(s) of code. (To run the cell, select \"Cell\" and \"Run\" from the top menu, or press `Shift-Enter`.)"
     ]
    },
    {
     "cell_type": "code",
     "collapsed": false,
     "input": [
      "x = scipy.arange(50)\n",
      "# Try these too:\n",
      "# x = scipy.randn(50)\n",
      "# x = scipy.linspace(0, 1, 50)\n",
      "\n",
      "x"
     ],
     "language": "python",
     "metadata": {},
     "outputs": [
      {
       "metadata": {},
       "output_type": "pyout",
       "prompt_number": 2,
       "text": [
        "array([ 0,  1,  2,  3,  4,  5,  6,  7,  8,  9, 10, 11, 12, 13, 14, 15, 16,\n",
        "       17, 18, 19, 20, 21, 22, 23, 24, 25, 26, 27, 28, 29, 30, 31, 32, 33,\n",
        "       34, 35, 36, 37, 38, 39, 40, 41, 42, 43, 44, 45, 46, 47, 48, 49])"
       ]
      }
     ],
     "prompt_number": 2
    }
   ],
   "metadata": {}
  }
 ]
}