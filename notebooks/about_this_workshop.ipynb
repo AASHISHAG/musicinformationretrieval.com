{
 "metadata": {
  "name": "",
  "signature": "sha256:7acca7e25588a5616409c2e1d8a3db5f5bcaa9b6a3766504e89522943f2bed6b"
 },
 "nbformat": 3,
 "nbformat_minor": 0,
 "worksheets": [
  {
   "cells": [
    {
     "cell_type": "heading",
     "level": 1,
     "metadata": {},
     "source": [
      "About This Workshop"
     ]
    },
    {
     "cell_type": "markdown",
     "metadata": {},
     "source": [
      "[CCRMA MIR Workshop Description and Registration](https://ccrma.stanford.edu/workshops/music-information-retrieval-mir)\n",
      "\n",
      "The material for this workshop is hosted on [GitHub](https://github.com/stevetjoa/stanford-mir)."
     ]
    },
    {
     "cell_type": "heading",
     "level": 2,
     "metadata": {},
     "source": [
      "Instructors"
     ]
    },
    {
     "cell_type": "markdown",
     "metadata": {},
     "source": [
      "*Links redirect to that year's wiki page.*"
     ]
    },
    {
     "cell_type": "markdown",
     "metadata": {},
     "source": [
      "- [2008](https://ccrma.stanford.edu/wiki/MIR_workshop_2008): Jay LeBoeuf\n",
      "- [2009](https://ccrma.stanford.edu/wiki/MIR_workshop_2009): Jay LeBoeuf, Kyogu Lee\n",
      "- [2010](https://ccrma.stanford.edu/wiki/MIR_workshop_2010): Jay LeBoeuf, Rebecca Fiebrink\n",
      "- [2011](https://ccrma.stanford.edu/wiki/MIR_workshop_2011): Jay LeBoeuf, Stephen Pope, Leigh Smith, Steve Tjoa\n",
      "- [2012](https://ccrma.stanford.edu/wiki/MIR_workshop_2012): Jay LeBoeuf, Leigh Smith, Steve Tjoa\n",
      "- [2013](https://ccrma.stanford.edu/wiki/MIR_workshop_2013): Jay LeBoeuf, Leigh Smith, Steve Tjoa\n",
      "- [2014](https://ccrma.stanford.edu/wiki/MIR_workshop_2014): Jay LeBoeuf, Leigh Smith, Steve Tjoa"
     ]
    },
    {
     "cell_type": "heading",
     "level": 2,
     "metadata": {},
     "source": [
      "Guest Lecturers"
     ]
    },
    {
     "cell_type": "markdown",
     "metadata": {},
     "source": [
      "- 2011: Rebecca Fiebrink, Doug Eck, George Tzanetakis\n",
      "- 2012: Oscar Celma, Michael Mandel\n",
      "- 2013: Ching-Wei Chen, Nick Bryan, Gautham Mysore\n",
      "- 2014: Stephen Pope, Andreas Ehmann"
     ]
    },
    {
     "cell_type": "heading",
     "level": 2,
     "metadata": {},
     "source": [
      "Alumni"
     ]
    },
    {
     "cell_type": "markdown",
     "metadata": {},
     "source": [
      "- 2008:\n",
      "- 2009 [[full list](https://ccrma.stanford.edu/wiki/MIR_workshop_2009/Participants)]: Luke Dahl, Mike Gao, Craig Hanson, Jorge Herrera, Denis Lebel, Sang Won Lee, Gautham Mysore, Jeremy Sawruk, Hwan Shim, Diana Siwiak, Steve Tjoa, Elie Noune, James Hughes, Stefan Tomic, Lisa Lim, Fred Barrett\n",
      "- 2010:\n",
      "- 2011: Chris Colatos, Jeff Albert, Kamlesh Lakshminarayanan, Sean Zhang, Eli Stine, David Bird, Gina Collecchia, Dekun Zou, Bill Paseman, John Amuedo\n",
      "- 2012:\n",
      "- 2013: Freddie Sanchez, Linda Barnett, Xuchen Yang, Vivek Kumar, Felipe Lo\u00e1iciga Espeleta, Haoqing (Panda) Geng\n",
      "- 2014: Krishna Kumar, Owen Campbell, Dan Cartoon, Rob Miller, Davide Fossati, Biagio Gallo, Joel Hunt, Shinobu Yamada, Fredom Luo, Sejin Oh, Phaedon Sinis, Xinyuan Lai, Greg Mertz, Matt Mitchell"
     ]
    }
   ],
   "metadata": {}
  }
 ]
}