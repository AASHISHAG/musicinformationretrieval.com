{
 "metadata": {
  "name": "",
  "signature": "sha256:fc454c5edcc53ce3f39585e61fda6a02b56561debd910c358dc6bc07a394048c"
 },
 "nbformat": 3,
 "nbformat_minor": 0,
 "worksheets": [
  {
   "cells": [
    {
     "cell_type": "markdown",
     "metadata": {},
     "source": [
      "About This Workshop\n",
      "===================\n",
      "\n",
      "The first CCRMA summer workshop on music information retrieval was taught by Jay LeBoeuf in 2008."
     ]
    },
    {
     "cell_type": "markdown",
     "metadata": {},
     "source": [
      "Instructors\n",
      "-----\n",
      "\n",
      "- 2008: Jay LeBoeuf\n",
      "- 2009: Jay LeBoeuf, Kyogu Lee\n",
      "- 2010: Jay LeBoeuf, Rebecca Fiebrink\n",
      "- 2011: Jay LeBoeuf, Stephen Pope, Leigh Smith, Steve Tjoa\n",
      "- 2012: Jay LeBoeuf, Leigh Smith, Steve Tjoa\n",
      "- 2013: Jay LeBoeuf, Leigh Smith, Steve Tjoa\n",
      "- 2014: Jay LeBoeuf, Leigh Smith, Steve Tjoa\n"
     ]
    },
    {
     "cell_type": "markdown",
     "metadata": {},
     "source": [
      "Experimenting\n",
      "-----\n",
      "\n",
      "Code cells are meant to be interactive. If you see a cell like this, you should be able to select it, and from the menu \"Cell\" above, click \"Run\":"
     ]
    },
    {
     "cell_type": "code",
     "collapsed": false,
     "input": [
      "import scipy\n",
      "\n",
      "x = scipy.arange(100)\n",
      "# x = scipy.randn(100)\n",
      "# x = scipy.linspace(0, 1, 100)\n",
      "\n",
      "x"
     ],
     "language": "python",
     "metadata": {},
     "outputs": [
      {
       "metadata": {},
       "output_type": "pyout",
       "prompt_number": 5,
       "text": [
        "array([ 0,  1,  2,  3,  4,  5,  6,  7,  8,  9, 10, 11, 12, 13, 14, 15, 16,\n",
        "       17, 18, 19, 20, 21, 22, 23, 24, 25, 26, 27, 28, 29, 30, 31, 32, 33,\n",
        "       34, 35, 36, 37, 38, 39, 40, 41, 42, 43, 44, 45, 46, 47, 48, 49, 50,\n",
        "       51, 52, 53, 54, 55, 56, 57, 58, 59, 60, 61, 62, 63, 64, 65, 66, 67,\n",
        "       68, 69, 70, 71, 72, 73, 74, 75, 76, 77, 78, 79, 80, 81, 82, 83, 84,\n",
        "       85, 86, 87, 88, 89, 90, 91, 92, 93, 94, 95, 96, 97, 98, 99])"
       ]
      }
     ],
     "prompt_number": 5
    },
    {
     "cell_type": "markdown",
     "metadata": {},
     "source": [
      "then try all of the possible options!"
     ]
    }
   ],
   "metadata": {}
  }
 ]
}