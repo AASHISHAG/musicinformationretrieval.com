{
 "metadata": {
  "name": "",
  "signature": "sha256:1abbf29ef46d8fc8d1262eca8a9c8da262d15821c04a149ade6e78d73c9b85c5"
 },
 "nbformat": 3,
 "nbformat_minor": 0,
 "worksheets": [
  {
   "cells": [
    {
     "cell_type": "markdown",
     "metadata": {},
     "source": [
      "About This Workshop\n",
      "===================\n",
      "\n",
      "The first CCRMA summer workshop on music information retrieval was taught by Jay LeBoeuf in 2008."
     ]
    },
    {
     "cell_type": "markdown",
     "metadata": {},
     "source": [
      "Instructors\n",
      "-----\n",
      "\n",
      "- 2008: Jay LeBoeuf\n",
      "- 2009: Jay LeBoeuf, Kyogu Lee\n",
      "- 2010: Jay LeBoeuf, Rebecca Fiebrink\n",
      "- 2011: Jay LeBoeuf, Stephen Pope, Leigh Smith, Steve Tjoa\n",
      "- 2012: Jay LeBoeuf, Leigh Smith, Steve Tjoa\n",
      "- 2013: Jay LeBoeuf, Leigh Smith, Steve Tjoa\n",
      "- 2014: Jay LeBoeuf, Leigh Smith, Steve Tjoa\n"
     ]
    },
    {
     "cell_type": "markdown",
     "metadata": {},
     "source": [
      "Experimenting\n",
      "-----\n",
      "\n",
      "Code cells are meant to be interactive. If you see a cell like this:"
     ]
    },
    {
     "cell_type": "code",
     "collapsed": false,
     "input": [
      "x = scipy.randn(100)\n",
      "# x = scipy.rand(100)\n",
      "# x = scipy.arange(100)\n",
      "# x = scipy.linspace(0, 1, 100)"
     ],
     "language": "python",
     "metadata": {},
     "outputs": [],
     "prompt_number": 0
    },
    {
     "cell_type": "markdown",
     "metadata": {},
     "source": [
      "then try all of the possible options!"
     ]
    }
   ],
   "metadata": {}
  }
 ]
}