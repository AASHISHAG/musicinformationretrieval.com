{
 "metadata": {
  "name": "",
  "signature": "sha256:98b053589d06e625718d1e1c0a2b65a02f9098813c4b80e061bb5732bb95b293"
 },
 "nbformat": 3,
 "nbformat_minor": 0,
 "worksheets": [
  {
   "cells": [
    {
     "cell_type": "markdown",
     "metadata": {},
     "source": [
      "Classification of Separated Signals\n",
      "-----------------------------------\n",
      "\n",
      "Follow the K-NN example in Lab 1, but classify the *separated* signals.\n",
      "\n",
      "As in Lab 1, extract features from each training sample in the kick and snare drum directories.\n",
      "\n",
      "1.  Train a K-NN model using the kick and snare drum samples."
     ]
    },
    {
     "cell_type": "code",
     "collapsed": false,
     "input": [
      "labels = np.empty(20, np.int32)\n",
      "labels[0:9] = 1 # First 10 are the first sample type, e.g. kick\n",
      "labels[10:19] = 2 # Second 10 are the second sample type, e.g snare\n",
      "\n",
      "model_snare = KNeighborsClassifier(n_neighbors = 1)\n",
      "model.fit(scaledTrainingFeatures, labels.take(train_index, 0))\n",
      "model_output = model_snare.predict(scaledTestingFeatures)"
     ],
     "language": "python",
     "metadata": {},
     "outputs": []
    },
    {
     "cell_type": "markdown",
     "metadata": {},
     "source": [
      "2.  Extract features from the drum signals that you separated in Lab 4 Section 1. \n",
      "\n",
      "3.  Classify them using the K-NN model that you built.\n",
      "\n",
      "    Does K-NN accurately classify the separated signals?\n",
      "\n",
      "4.  Repeat for different numbers of separated signals (i.e., the parameter `K` in NMF). \n",
      "\n",
      "5.  Overseparate the signal using `K = 20` or more. For those separated components that are classified as snare, add them together using `sum}. The listen to the sum signal. Is it coherent, i.e., does it sound like a single separated drum?\n",
      "\n",
      "...and more!\n",
      "\n",
      "*  If you have another idea that you would like to try out, please ask me!\n",
      "*  Feel free to collaborate with a partner.  Together, brainstorm your own problems, if you want!\n",
      "\n",
      "Good luck!"
     ]
    },
    {
     "cell_type": "code",
     "collapsed": false,
     "input": [],
     "language": "python",
     "metadata": {},
     "outputs": []
    }
   ],
   "metadata": {}
  }
 ]
}