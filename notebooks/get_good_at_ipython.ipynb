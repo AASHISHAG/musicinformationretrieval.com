{
 "metadata": {
  "name": "",
  "signature": "sha256:52951801c096d30d4f0b6c5b0fde145fd945aeffcb1ca577d230f877554dc234"
 },
 "nbformat": 3,
 "nbformat_minor": 0,
 "worksheets": [
  {
   "cells": [
    {
     "cell_type": "markdown",
     "metadata": {},
     "source": [
      "Getting Good at IPython\n",
      "======================="
     ]
    },
    {
     "cell_type": "markdown",
     "metadata": {},
     "source": [
      "You are looking at an **IPython Notebook**, an interactive Python shell inside of a web browser. With it, you can run individual Python commands and immediately view their output.  It's basically the Matlab Desktop or Mathematica Notebook for Python.\n",
      "\n",
      "An IPython Notebook is comprised of **cells**. Cells are just small units of code or text. For example, the text that you are reading is inside a *Markdown* cell. (More on that later.)\n",
      "\n",
      "*Code* cells allow you to edit, execute, and analyze small portions of Python code at a time. Here is a code cell:"
     ]
    },
    {
     "cell_type": "code",
     "collapsed": false,
     "input": [
      "1+2"
     ],
     "language": "python",
     "metadata": {},
     "outputs": [
      {
       "metadata": {},
       "output_type": "pyout",
       "prompt_number": 19,
       "text": [
        "3"
       ]
      }
     ],
     "prompt_number": 19
    },
    {
     "cell_type": "heading",
     "level": 2,
     "metadata": {},
     "source": [
      "Modes"
     ]
    },
    {
     "cell_type": "markdown",
     "metadata": {},
     "source": [
      "The IPython Notebook has two different keyboard input modes. \n",
      "\n",
      "In **Edit Mode**, you type code/text into a cell. Edit Mode is indicated by a *green* cell border. \n",
      "\n",
      "To enter Edit Mode from Command Mode, press `Enter`. You can also double-click on a cell.\n",
      "\n",
      "To execute the code inside of a cell and move to the next cell, press `Shift-Enter`. (`Ctrl-Enter` will run the current cell without moving to the next cell. This is useful for rapidly tweaking the current cell.)\n",
      "\n",
      "In **Command Mode**, you can perform notebook level actions such as navigating among cells, selecting cells, moving cells, saving notebooks, displaying help. Command Mode is indicated by a *grey* cell border. \n",
      "\n",
      "To enter Command Mode from Edit Mode, press `Esc`. Other commands can also enter Command Mode, e.g. `Shift-Enter`.\n",
      "\n",
      "To display the Help Menu from Command Mode, press `h`. Use it often; `h` is your best friend."
     ]
    },
    {
     "cell_type": "heading",
     "level": 2,
     "metadata": {},
     "source": [
      "Writing Text in Markdown"
     ]
    },
    {
     "cell_type": "markdown",
     "metadata": {},
     "source": [
      "Markdown is a markup language that is a superset of HTML. The Markdown specification is found here: http://daringfireball.net/projects/markdown/"
     ]
    },
    {
     "cell_type": "markdown",
     "metadata": {},
     "source": [
      "A cell may contain Python code or Markdown code. To convert any Python cell to a markdown cell, press `m`."
     ]
    },
    {
     "cell_type": "markdown",
     "metadata": {},
     "source": [
      "For headings, we recommend that you use IPython's keyboard shortcuts. To change the text in a cell to a level-3 header, simply press `3`. For similar commands, press `h` to view the Help menu."
     ]
    },
    {
     "cell_type": "heading",
     "level": 2,
     "metadata": {},
     "source": [
      "Writing Text in $\\LaTeX$"
     ]
    },
    {
     "cell_type": "markdown",
     "metadata": {},
     "source": [
      "In a Markdown cell, you can also use $\\LaTeX$ syntax. Example input:"
     ]
    },
    {
     "cell_type": "markdown",
     "metadata": {},
     "source": [
      "    $$ \\max_{||\\textbf{w}||=1} \\sum_{i=1}^{N} \\big| \\langle \\textbf{w}, \\textbf{x}_i - \\textbf{m} \\rangle \\big|^2 $$"
     ]
    },
    {
     "cell_type": "markdown",
     "metadata": {},
     "source": [
      "Output:"
     ]
    },
    {
     "cell_type": "markdown",
     "metadata": {},
     "source": [
      "$$ \\max_{||\\textbf{w}||=1} \\sum_{i=1}^{N} \\big| \\langle \\textbf{w}, \\textbf{x}_i - \\textbf{m} \\rangle \\big|^2 $$"
     ]
    },
    {
     "cell_type": "heading",
     "level": 2,
     "metadata": {},
     "source": [
      "Default Imports"
     ]
    },
    {
     "cell_type": "markdown",
     "metadata": {},
     "source": [
      "If you run IPython inside the [`stanford-mir` Vagrant box](https://vagrantcloud.com/stevetjoa/stanford-mir) used for this workshop, every IPython notebook will automatically have the following packages imported: `numpy`, `scipy`, `matplotlib`."
     ]
    },
    {
     "cell_type": "markdown",
     "metadata": {},
     "source": [
      "In addition, several NumPy and matplotlib functions already exist in the IPython workspace:"
     ]
    },
    {
     "cell_type": "code",
     "collapsed": false,
     "input": [
      "print arange(5)\n",
      "print randn(5)\n",
      "print hamming(5)"
     ],
     "language": "python",
     "metadata": {},
     "outputs": [
      {
       "output_type": "stream",
       "stream": "stdout",
       "text": [
        "[0 1 2 3 4]\n",
        "[ 0.39776472  0.12741583 -1.23863858  0.11812034 -0.04388239]\n",
        "[ 0.08  0.54  1.    0.54  0.08]\n"
       ]
      }
     ],
     "prompt_number": 20
    },
    {
     "cell_type": "code",
     "collapsed": false,
     "input": [
      "plot(hamming(101))"
     ],
     "language": "python",
     "metadata": {},
     "outputs": [
      {
       "metadata": {},
       "output_type": "pyout",
       "prompt_number": 21,
       "text": [
        "[<matplotlib.lines.Line2D at 0x4194ad0>]"
       ]
      },
      {
       "metadata": {},
       "output_type": "display_data",
       "png": "[encoded data removed]",
       "text": [
        "<matplotlib.figure.Figure at 0x39a6590>"
       ]
      }
     ],
     "prompt_number": 21
    },
    {
     "cell_type": "markdown",
     "metadata": {},
     "source": [
      "To learn more about automatic imports, view the IPython configuration file at `~/.ipython/profile_default/ipython_config.py`."
     ]
    },
    {
     "cell_type": "heading",
     "level": 2,
     "metadata": {},
     "source": [
      "Tab Autocompletion"
     ]
    },
    {
     "cell_type": "markdown",
     "metadata": {},
     "source": [
      "Tab autocompletion works in Command Window and the Editor.  After you type a few letters, press the `Tab` key and a popup will appear and show you all of the possible completions, including variable names and functions.  This prevents you from mistyping the names of variables -- a big time saver! \n",
      "     \n",
      "For example, type `scipy.` and then press `Tab`. You should see a list of members in the Python package `scipy`.\n",
      "\n",
      "Or type `scipy.sin`, then press `Tab` to view members that begin with `sin`."
     ]
    },
    {
     "cell_type": "code",
     "collapsed": false,
     "input": [
      "# Press Tab at the end of the following line\n",
      "scipy.sin"
     ],
     "language": "python",
     "metadata": {},
     "outputs": [
      {
       "metadata": {},
       "output_type": "pyout",
       "prompt_number": 22,
       "text": [
        "<ufunc 'sin'>"
       ]
      }
     ],
     "prompt_number": 22
    },
    {
     "cell_type": "heading",
     "level": 2,
     "metadata": {},
     "source": [
      "Inline Documentation"
     ]
    },
    {
     "cell_type": "markdown",
     "metadata": {},
     "source": [
      "To get help on a certain Python object, type `?` after the object name, and run the cell:"
     ]
    },
    {
     "cell_type": "code",
     "collapsed": false,
     "input": [
      "# Run this cell.\n",
      "int?"
     ],
     "language": "python",
     "metadata": {},
     "outputs": [],
     "prompt_number": 23
    },
    {
     "cell_type": "heading",
     "level": 2,
     "metadata": {},
     "source": [
      "More Documentation: NumPy, SciPy, Matplotlib"
     ]
    },
    {
     "cell_type": "markdown",
     "metadata": {},
     "source": [
      "In the top menu bar, click on Help, and you'll find a prepared set of documentation links for IPython, NumPy, SciPy, and Matplotlib."
     ]
    },
    {
     "cell_type": "heading",
     "level": 2,
     "metadata": {},
     "source": [
      "Experimenting"
     ]
    },
    {
     "cell_type": "markdown",
     "metadata": {},
     "source": [
      "Code cells are meant to be interactive. We may present you with several options for experimentation, e.g. choices of variables, audio files, and algorithms. For example, if you see a cell like this, then try all of the possible options by uncommenting the desired line(s) of code. (To run the cell, select \"Cell\" and \"Run\" from the top menu, or press `Shift-Enter`.)"
     ]
    },
    {
     "cell_type": "code",
     "collapsed": false,
     "input": [
      "x = scipy.arange(50)\n",
      "# Try these too:\n",
      "# x = scipy.randn(50)\n",
      "# x = scipy.linspace(0, 1, 50)\n",
      "x"
     ],
     "language": "python",
     "metadata": {},
     "outputs": [
      {
       "metadata": {},
       "output_type": "pyout",
       "prompt_number": 24,
       "text": [
        "array([ 0,  1,  2,  3,  4,  5,  6,  7,  8,  9, 10, 11, 12, 13, 14, 15, 16,\n",
        "       17, 18, 19, 20, 21, 22, 23, 24, 25, 26, 27, 28, 29, 30, 31, 32, 33,\n",
        "       34, 35, 36, 37, 38, 39, 40, 41, 42, 43, 44, 45, 46, 47, 48, 49])"
       ]
      }
     ],
     "prompt_number": 24
    },
    {
     "cell_type": "heading",
     "level": 2,
     "metadata": {},
     "source": [
      "Saving"
     ]
    },
    {
     "cell_type": "markdown",
     "metadata": {},
     "source": [
      "Your code goes directly into an IPython notebook. To save your changes, click on the \"Save\" icon in the menu bar, or type `s` in command mode.\n",
      "\n",
      "If you want to undo a saved edit, use `git checkout -- <file>` to revert the change."
     ]
    }
   ],
   "metadata": {}
  }
 ]
}