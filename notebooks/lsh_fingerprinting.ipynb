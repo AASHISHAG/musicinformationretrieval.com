{
 "metadata": {
  "name": "",
  "signature": "sha256:d387e173a98616453a4425699fda77d47ae87ed7864fdc28e3bbb8283182abea"
 },
 "nbformat": 3,
 "nbformat_minor": 0,
 "worksheets": [
  {
   "cells": [
    {
     "cell_type": "heading",
     "level": 1,
     "metadata": {},
     "source": [
      "Music Fingerprinting using Locality Sensitive Hashing"
     ]
    },
    {
     "cell_type": "markdown",
     "metadata": {},
     "source": [
      "This notebook shows a simple system for performing retrieval of musical tracks using LSH."
     ]
    },
    {
     "cell_type": "markdown",
     "metadata": {},
     "source": [
      "Import libraries:"
     ]
    },
    {
     "cell_type": "code",
     "collapsed": false,
     "input": [
      "import librosa\n",
      "import os\n",
      "import os.path"
     ],
     "language": "python",
     "metadata": {},
     "outputs": [],
     "prompt_number": 1
    },
    {
     "cell_type": "markdown",
     "metadata": {},
     "source": [
      "Set figure size:"
     ]
    },
    {
     "cell_type": "code",
     "collapsed": false,
     "input": [
      "rcParams['figure.figsize'] = (15, 5)"
     ],
     "language": "python",
     "metadata": {},
     "outputs": [],
     "prompt_number": 2
    },
    {
     "cell_type": "markdown",
     "metadata": {},
     "source": [
      "Select training data:"
     ]
    },
    {
     "cell_type": "code",
     "collapsed": false,
     "input": [
      "training_dir = '../train/'\n",
      "training_files = [os.path.join(training_dir, f) for f in os.listdir(training_dir)]"
     ],
     "language": "python",
     "metadata": {},
     "outputs": [],
     "prompt_number": 3
    },
    {
     "cell_type": "markdown",
     "metadata": {},
     "source": [
      "Define a hash function:"
     ]
    },
    {
     "cell_type": "code",
     "collapsed": false,
     "input": [
      "def hash_func(vecs, projections):\n",
      "    bools = dot(vecs, projections.T) > 0\n",
      "    return [bool2int(bool_vec) for bool_vec in bools]"
     ],
     "language": "python",
     "metadata": {},
     "outputs": [],
     "prompt_number": 4
    },
    {
     "cell_type": "code",
     "collapsed": false,
     "input": [
      "def bool2int(x):\n",
      "    y = 0\n",
      "    for i,j in enumerate(x):\n",
      "        if j: y += 1<<i\n",
      "    return y"
     ],
     "language": "python",
     "metadata": {},
     "outputs": [],
     "prompt_number": 5
    },
    {
     "cell_type": "code",
     "collapsed": false,
     "input": [
      "X = randn(10,100)\n",
      "P = randn(3,100)\n",
      "hash_func(X, P)"
     ],
     "language": "python",
     "metadata": {},
     "outputs": [
      {
       "metadata": {},
       "output_type": "pyout",
       "prompt_number": 6,
       "text": [
        "[5, 2, 1, 3, 5, 1, 7, 2, 4, 4]"
       ]
      }
     ],
     "prompt_number": 6
    },
    {
     "cell_type": "heading",
     "level": 3,
     "metadata": {},
     "source": [
      "Create three LSH structures: Table, LSH, and MusicSearch:"
     ]
    },
    {
     "cell_type": "code",
     "collapsed": false,
     "input": [
      "class Table:\n",
      "    \n",
      "    def __init__(self, hash_size, dim):\n",
      "        self.table = dict()\n",
      "        self.hash_size = hash_size\n",
      "        self.projections = randn(self.hash_size, dim)\n",
      "\n",
      "    def add(self, vecs, label):\n",
      "        entry = {'label': label}\n",
      "        hashes = hash_func(vecs, self.projections)\n",
      "        for h in hashes:\n",
      "            if self.table.has_key(h):\n",
      "                self.table[h].append(entry)\n",
      "            else:\n",
      "                self.table[h] = [entry]\n",
      "\n",
      "    def query(self, vecs):\n",
      "        hashes = hash_func(vecs, self.projections)\n",
      "        results = list()\n",
      "        for h in hashes:\n",
      "            if self.table.has_key(h):\n",
      "                results.extend(self.table[h])\n",
      "        return results"
     ],
     "language": "python",
     "metadata": {},
     "outputs": [],
     "prompt_number": 7
    },
    {
     "cell_type": "code",
     "collapsed": false,
     "input": [
      "class LSH:\n",
      "    \n",
      "    def __init__(self, dim):\n",
      "        self.num_tables = 4\n",
      "        self.hash_size = 8\n",
      "        self.tables = list()\n",
      "        for i in range(self.num_tables):\n",
      "            self.tables.append(Table(self.hash_size, dim))\n",
      "    \n",
      "    def add(self, vecs, label):\n",
      "        for table in self.tables:\n",
      "            table.add(vecs, label)\n",
      "    \n",
      "    def query(self, vecs):\n",
      "        results = list()\n",
      "        for table in self.tables:\n",
      "            results.extend(table.query(vecs))\n",
      "        return results\n",
      "\n",
      "    def describe(self):\n",
      "        for table in self.tables:\n",
      "            print table.table"
     ],
     "language": "python",
     "metadata": {},
     "outputs": [],
     "prompt_number": 8
    },
    {
     "cell_type": "code",
     "collapsed": false,
     "input": [
      "class MusicSearch:\n",
      "    \n",
      "    def __init__(self, training_files):\n",
      "        self.frame_size = 4096\n",
      "        self.hop_size = 4000\n",
      "        self.fv_size = 12\n",
      "        self.lsh = LSH(self.fv_size)\n",
      "        self.training_files = training_files\n",
      "        self.num_features_in_file = dict()\n",
      "        for f in self.training_files:\n",
      "            self.num_features_in_file[f] = 0\n",
      "                \n",
      "    def train(self):\n",
      "        for filepath in self.training_files:\n",
      "            x, fs = librosa.load(filepath)\n",
      "            features = librosa.feature.chromagram(x, fs, n_fft=self.frame_size, hop_length=self.hop_size).T\n",
      "            self.lsh.add(features, filepath)\n",
      "            self.num_features_in_file[filepath] += len(features)\n",
      "                \n",
      "    def query(self, filepath):\n",
      "        x, fs = librosa.load(filepath)\n",
      "        features = librosa.feature.chromagram(x, fs, n_fft=self.frame_size, hop_length=self.hop_size).T\n",
      "        results = self.lsh.query(features)\n",
      "        print 'num results', len(results)\n",
      "\n",
      "        counts = dict()\n",
      "        for r in results:\n",
      "            if counts.has_key(r['label']):\n",
      "                counts[r['label']] += 1\n",
      "            else:\n",
      "                counts[r['label']] = 1\n",
      "        for k in counts:\n",
      "            counts[k] = float(counts[k])/self.num_features_in_file[k]\n",
      "        return counts\n"
     ],
     "language": "python",
     "metadata": {},
     "outputs": [],
     "prompt_number": 9
    },
    {
     "cell_type": "markdown",
     "metadata": {},
     "source": [
      "Train:"
     ]
    },
    {
     "cell_type": "code",
     "collapsed": false,
     "input": [
      "ms = MusicSearch(training_files)\n",
      "ms.train()"
     ],
     "language": "python",
     "metadata": {},
     "outputs": [],
     "prompt_number": 10
    },
    {
     "cell_type": "markdown",
     "metadata": {},
     "source": [
      "Test:"
     ]
    },
    {
     "cell_type": "code",
     "collapsed": false,
     "input": [
      "test_file = '../test/test.wav'\n",
      "results = ms.query(test_file)"
     ],
     "language": "python",
     "metadata": {},
     "outputs": [
      {
       "output_type": "stream",
       "stream": "stdout",
       "text": [
        "num results 82209\n"
       ]
      }
     ],
     "prompt_number": 11
    },
    {
     "cell_type": "markdown",
     "metadata": {},
     "source": [
      "Display the results:"
     ]
    },
    {
     "cell_type": "code",
     "collapsed": false,
     "input": [
      "for r in sorted(results, key=results.get, reverse=True):\n",
      "    print r, results[r]"
     ],
     "language": "python",
     "metadata": {},
     "outputs": [
      {
       "output_type": "stream",
       "stream": "stdout",
       "text": [
        "../train/bach_s3_3_szeryng_03.wav 27.5178571429\n",
        "../train/lady_madonna.wav 25.9036144578\n",
        "../train/bach_s3_3_szeryng_01.wav 24.6964285714\n",
        "../train/lady_madonna_crop.wav 24.6785714286\n",
        "../train/bach_s3_3_szeryng_02.wav 24.0892857143\n",
        "../train/bach_s3_3_szeryng_04.wav 23.1428571429\n",
        "../train/brahms_s1_1_perlman_01.wav 23.0535714286\n",
        "../train/Beethoven_vln_sonata5_Oistrakh_01.wav 22.7543859649\n",
        "../train/konstantine.wav 22.0839694656\n",
        "../train/bach_s3_3_szeryng_06.wav 21.8571428571\n",
        "../train/Beethoven_vln_sonata5_Francescatti_02.wav 21.828125\n",
        "../train/Beethoven_vln_sonata5_Oistrakh_03.wav 21.7272727273\n",
        "../train/Beethoven_vln_sonata5_Zukerman_01.wav 21.1320754717\n",
        "../train/Beethoven_vln_sonata5_Francescatti_04.wav 20.7924528302\n",
        "../train/Beethoven_vln_sonata5_Francescatti_03.wav 20.7380952381\n",
        "../train/brahms_s1_1_perlman_02.wav 20.6785714286\n",
        "../train/Beethoven_vln_sonata5_Oistrakh_04.wav 20.5714285714\n",
        "../train/Bach Vln Sonata1 - Fischbach 2004 - 02.wav 20.3939393939\n",
        "../train/brahms_s1_1_perlman_06.wav 20.3571428571\n",
        "../train/Beethoven_vln_sonata5_Oistrakh_02.wav 20.3492063492\n",
        "../train/bach_s3_3_szeryng_05.wav 19.9464285714\n",
        "../train/Beethoven_vln_sonata5_Zukerman_03.wav 19.9166666667\n",
        "../train/Beethoven_vln_sonata5_Zukerman_02.wav 19.776119403\n",
        "../train/Bach Vln Sonata1 - Milstein 1954 - 02.wav 19.1203703704\n",
        "../train/brahms_rhapsody_01.wav 19.0361445783\n",
        "../train/Beethoven_vln_sonata5_Oistrakh_05.wav 17.9090909091\n",
        "../train/Beethoven_vln_sonata5_Zukerman_04.wav 17.6551724138\n",
        "../train/brahms_rhapsody_02.wav 17.5058823529\n",
        "../train/Beethoven_vln_sonata5_Francescatti_05.wav 17.1034482759\n",
        "../train/Beethoven_vln_sonata5_Francescatti_01.wav 17.0\n",
        "../train/office_theme.wav 16.9236947791\n",
        "../train/Bach Vln Partita3 - Milstein 1955 - 01.wav 16.8820512821\n",
        "../train/Beethoven_vln_sonata5_Zukerman_05.wav 16.3194444444\n",
        "../train/brahms_s1_1_perlman_05.wav 16.0714285714\n",
        "../train/bach_p3_1_heifetz_03.wav 15.8928571429\n",
        "../train/Bach Vln Partita3 - Milstein 1955 - 03.wav 15.2528735632\n",
        "../train/bach_p3_1_perlman_03.wav 14.8214285714\n",
        "../train/moonlight.wav 14.8145454545\n",
        "../train/bach_p3_1_perlman_04.wav 13.0535714286\n",
        "../train/brahms_s1_1_perlman_03.wav 12.125\n",
        "../train/Bach Vln Partita3 - Fischbach 2004 - 01.wav 12.0444444444\n",
        "../train/brahms_s1_1_perlman_04.wav 11.6071428571\n",
        "../train/bach_p3_1_heifetz_04.wav 11.2321428571\n",
        "../train/Bach Vln Partita3 - Fischbach 2004 - 03.wav 10.9273743017\n",
        "../train/dont_stop_believin.wav 9.9246031746\n",
        "../train/bach_p3_1_heifetz_02.wav 9.89285714286\n",
        "../train/brandenburg3_01.wav 8.89\n",
        "../train/bach_p3_1_perlman_02.wav 7.60714285714\n",
        "../train/bach_p3_1_heifetz_01.wav 7.55357142857\n",
        "../train/bach_p3_1_heifetz_05.wav 7.10714285714\n",
        "../train/bach_p3_1_perlman_01.wav 6.89285714286\n",
        "../train/bach_p3_1_perlman_06.wav 6.55357142857\n",
        "../train/bach_p3_1_perlman_05.wav 5.17857142857\n"
       ]
      }
     ],
     "prompt_number": 12
    }
   ],
   "metadata": {}
  }
 ]
}