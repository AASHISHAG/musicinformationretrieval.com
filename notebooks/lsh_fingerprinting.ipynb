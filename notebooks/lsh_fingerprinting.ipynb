{
 "metadata": {
  "name": "",
  "signature": "sha256:1f044aa25a32fe434bce4255de83af940291fe22648bb0bd1aa00a36fab6d135"
 },
 "nbformat": 3,
 "nbformat_minor": 0,
 "worksheets": [
  {
   "cells": [
    {
     "cell_type": "heading",
     "level": 2,
     "metadata": {},
     "source": [
      "Import libraries:"
     ]
    },
    {
     "cell_type": "code",
     "collapsed": false,
     "input": [
      "import essentia.standard as ess\n",
      "import os\n",
      "import os.path"
     ],
     "language": "python",
     "metadata": {},
     "outputs": [],
     "prompt_number": 1
    },
    {
     "cell_type": "heading",
     "level": 2,
     "metadata": {},
     "source": [
      "Select training data:"
     ]
    },
    {
     "cell_type": "code",
     "collapsed": false,
     "input": [
      "training_dir = '../train/'\n",
      "training_files = [os.path.join(training_dir, f) for f in os.listdir(training_dir)]"
     ],
     "language": "python",
     "metadata": {},
     "outputs": [],
     "prompt_number": 2
    },
    {
     "cell_type": "heading",
     "level": 2,
     "metadata": {},
     "source": [
      "Define a hash function:"
     ]
    },
    {
     "cell_type": "code",
     "collapsed": false,
     "input": [
      "def hash_func(vec, projections):\n",
      "    bools = dot(projections, vec) > 0\n",
      "    return bool2int(bools)"
     ],
     "language": "python",
     "metadata": {},
     "outputs": [],
     "prompt_number": 3
    },
    {
     "cell_type": "code",
     "collapsed": false,
     "input": [
      "def bool2int(x):\n",
      "    y = 0\n",
      "    for i,j in enumerate(x):\n",
      "        if j: y += 1<<i\n",
      "    return y"
     ],
     "language": "python",
     "metadata": {},
     "outputs": [],
     "prompt_number": 4
    },
    {
     "cell_type": "code",
     "collapsed": false,
     "input": [
      "projections = randn(5, 512)\n",
      "x = randn(512)\n",
      "hash_func(x, projections)"
     ],
     "language": "python",
     "metadata": {},
     "outputs": [
      {
       "metadata": {},
       "output_type": "pyout",
       "prompt_number": 5,
       "text": [
        "24"
       ]
      }
     ],
     "prompt_number": 5
    },
    {
     "cell_type": "heading",
     "level": 2,
     "metadata": {},
     "source": [
      "Create three LSH structures: Table, LSH, and MusicSearch:"
     ]
    },
    {
     "cell_type": "code",
     "collapsed": false,
     "input": [
      "class Table:\n",
      "    \n",
      "    def __init__(self, hash_size, dim):\n",
      "        self.table = dict()\n",
      "        self.hash_size = hash_size\n",
      "        self.dim = dim # TODO is this necessary?\n",
      "        self.projections = randn(self.hash_size, self.dim)\n",
      "\n",
      "    def add(self, vec, label):\n",
      "        entry = {'vector': None, 'label': label}\n",
      "        h = hash_func(vec, self.projections)\n",
      "        if self.table.has_key(h):\n",
      "            self.table[h].append(entry)\n",
      "        else:\n",
      "            self.table[h] = [entry]\n",
      "\n",
      "    def query(self, vec):\n",
      "        h = hash_func(vec, self.projections)\n",
      "        if self.table.has_key(h):\n",
      "            results = self.table[h]\n",
      "        else:\n",
      "            results = list()\n",
      "        return results"
     ],
     "language": "python",
     "metadata": {},
     "outputs": [],
     "prompt_number": 6
    },
    {
     "cell_type": "code",
     "collapsed": false,
     "input": [],
     "language": "python",
     "metadata": {},
     "outputs": [],
     "prompt_number": 6
    },
    {
     "cell_type": "code",
     "collapsed": false,
     "input": [
      "class LSH:\n",
      "    \n",
      "    def __init__(self, dim):\n",
      "        self.num_tables = 7\n",
      "        self.hash_size = 10\n",
      "        self.dim = dim\n",
      "        self.tables = list()\n",
      "        for i in range(self.num_tables):\n",
      "            self.tables.append(Table(self.hash_size, self.dim))\n",
      "    \n",
      "    def add(self, vec, label):\n",
      "        for table in self.tables:\n",
      "            table.add(vec, label)\n",
      "    \n",
      "    def query(self, vec):\n",
      "        results = list()\n",
      "        for table in self.tables:\n",
      "            results.extend(table.query(vec))\n",
      "        return results\n",
      "\n",
      "    def describe(self):\n",
      "        for table in self.tables:\n",
      "            print table.table"
     ],
     "language": "python",
     "metadata": {},
     "outputs": [],
     "prompt_number": 7
    },
    {
     "cell_type": "code",
     "collapsed": false,
     "input": [
      "class MusicSearch:\n",
      "    \n",
      "    def __init__(self, training_files):\n",
      "        self.frame_size = 4096\n",
      "        self.hop_size = 4000\n",
      "        self.fv_size = 1000\n",
      "        self.lsh = LSH(self.fv_size)\n",
      "        self.training_files = training_files\n",
      "        self.num_features_in_file = dict()\n",
      "        for f in self.training_files:\n",
      "            self.num_features_in_file[f] = 0\n",
      "    \n",
      "    def get_features(self, frame):\n",
      "        hamming_window = ess.Windowing(type='hamming')\n",
      "        spectrum = ess.Spectrum()\n",
      "        return spectrum(hamming_window(frame))[:self.fv_size]\n",
      "        \n",
      "    def train(self):\n",
      "        for filepath in self.training_files:\n",
      "            x = ess.MonoLoader(filename=filepath)()\n",
      "            for frame in ess.FrameGenerator(x, frameSize=self.frame_size, hopSize=self.hop_size):\n",
      "                self.lsh.add(self.get_features(frame), filepath)\n",
      "                self.num_features_in_file[filepath] += 1\n",
      "                \n",
      "    def query(self, filepath):\n",
      "        x = ess.MonoLoader(filename=filepath)()\n",
      "        features = [self.get_features(frame) \n",
      "                    for frame in ess.FrameGenerator(x, frameSize=self.frame_size, hopSize=self.hop_size)]\n",
      "        results = list()\n",
      "        for vec in features:\n",
      "            results.extend(self.lsh.query(vec))\n",
      "\n",
      "        counts = dict()\n",
      "        for r in results:\n",
      "            if counts.has_key(r['label']):\n",
      "                counts[r['label']] += 1\n",
      "            else:\n",
      "                counts[r['label']] = 1\n",
      "        for k in counts:\n",
      "            counts[k] = float(counts[k])/self.num_features_in_file[k]\n",
      "        return counts\n"
     ],
     "language": "python",
     "metadata": {},
     "outputs": [],
     "prompt_number": 8
    },
    {
     "cell_type": "heading",
     "level": 2,
     "metadata": {},
     "source": [
      "Train:"
     ]
    },
    {
     "cell_type": "code",
     "collapsed": false,
     "input": [
      "ms = MusicSearch(training_files)\n",
      "ms.train()"
     ],
     "language": "python",
     "metadata": {},
     "outputs": [],
     "prompt_number": 9
    },
    {
     "cell_type": "heading",
     "level": 2,
     "metadata": {},
     "source": [
      "Test:"
     ]
    },
    {
     "cell_type": "code",
     "collapsed": false,
     "input": [
      "test_file = '../test/steve_bach_p3.wav'\n",
      "results = ms.query(test_file)"
     ],
     "language": "python",
     "metadata": {},
     "outputs": [],
     "prompt_number": 10
    },
    {
     "cell_type": "heading",
     "level": 2,
     "metadata": {},
     "source": [
      "Display the results:"
     ]
    },
    {
     "cell_type": "code",
     "collapsed": false,
     "input": [
      "for r in sorted(results, key=results.get, reverse=True):\n",
      "    print r, results[r]"
     ],
     "language": "python",
     "metadata": {},
     "outputs": [
      {
       "output_type": "stream",
       "stream": "stdout",
       "text": [
        "../train/brahms_s1_1_perlman_02.wav 8.69369369369\n",
        "../train/bach_p3_1_perlman_01.wav 8.22522522523\n",
        "../train/Beethoven_vln_sonata5_Francescatti_05.wav 8.22413793103\n",
        "../train/Beethoven_vln_sonata5_Francescatti_03.wav 7.79518072289\n",
        "../train/brahms_s1_1_perlman_04.wav 7.40540540541\n",
        "../train/brahms_s1_1_perlman_01.wav 7.31531531532\n",
        "../train/Beethoven_vln_sonata5_Zukerman_03.wav 6.53684210526\n",
        "../train/brahms_s1_1_perlman_05.wav 6.18918918919\n",
        "../train/Beethoven_vln_sonata5_Zukerman_01.wav 6.15094339623\n",
        "../train/Beethoven_vln_sonata5_Francescatti_01.wav 6.125\n",
        "../train/Beethoven_vln_sonata5_Francescatti_02.wav 5.984375\n",
        "../train/Beethoven_vln_sonata5_Oistrakh_02.wav 5.95275590551\n",
        "../train/brahms_s1_1_perlman_03.wav 5.94594594595\n",
        "../train/Beethoven_vln_sonata5_Francescatti_04.wav 5.79245283019\n",
        "../train/lady_madonna_crop.wav 5.70535714286\n",
        "../train/brahms_rhapsody_02.wav 5.48823529412\n",
        "../train/brahms_s1_1_perlman_06.wav 5.43243243243\n",
        "../train/moonlight.wav 5.4\n",
        "../train/office_theme.wav 5.39959839357\n",
        "../train/brandenburg3_01.wav 5.37688442211\n",
        "../train/lady_madonna.wav 5.21385542169\n",
        "../train/Beethoven_vln_sonata5_Oistrakh_01.wav 5.11403508772\n",
        "../train/bach_s3_3_szeryng_01.wav 4.89189189189\n",
        "../train/bach_p3_1_heifetz_04.wav 4.87387387387\n",
        "../train/konstantine.wav 4.87072243346\n",
        "../train/Bach Vln Partita3 - Milstein 1955 - 01.wav 4.81233933162\n",
        "../train/Beethoven_vln_sonata5_Zukerman_02.wav 4.62222222222\n",
        "../train/Beethoven_vln_sonata5_Zukerman_04.wav 4.57391304348\n",
        "../train/dont_stop_believin.wav 4.57256461233\n",
        "../train/bach_p3_1_perlman_05.wav 4.4954954955\n",
        "../train/Beethoven_vln_sonata5_Zukerman_05.wav 4.45833333333\n",
        "../train/Beethoven_vln_sonata5_Oistrakh_03.wav 4.39772727273\n",
        "../train/bach_p3_1_perlman_04.wav 4.33333333333\n",
        "../train/Bach Vln Partita3 - Milstein 1955 - 03.wav 4.24712643678\n",
        "../train/bach_p3_1_heifetz_01.wav 4.22522522523\n",
        "../train/bach_p3_1_perlman_03.wav 4.17117117117\n",
        "../train/Beethoven_vln_sonata5_Oistrakh_05.wav 4.07518796992\n",
        "../train/Beethoven_vln_sonata5_Oistrakh_04.wav 4.01785714286\n",
        "../train/Bach Vln Partita3 - Fischbach 2004 - 01.wav 3.77605321508\n",
        "../train/bach_p3_1_perlman_02.wav 3.72972972973\n",
        "../train/bach_s3_3_szeryng_05.wav 3.64864864865\n",
        "../train/bach_p3_1_perlman_06.wav 3.51351351351\n",
        "../train/brahms_rhapsody_01.wav 3.38855421687\n",
        "../train/Bach Vln Partita3 - Fischbach 2004 - 03.wav 3.17877094972\n",
        "../train/bach_p3_1_heifetz_03.wav 3.02702702703\n",
        "../train/bach_p3_1_heifetz_02.wav 3.00900900901\n",
        "../train/bach_s3_3_szeryng_06.wav 2.95495495495\n",
        "../train/bach_s3_3_szeryng_02.wav 2.74774774775\n",
        "../train/Bach Vln Sonata1 - Milstein 1954 - 02.wav 2.70438799076\n",
        "../train/bach_p3_1_heifetz_05.wav 2.63963963964\n",
        "../train/bach_s3_3_szeryng_04.wav 2.61261261261\n",
        "../train/bach_s3_3_szeryng_03.wav 2.36936936937\n",
        "../train/Bach Vln Sonata1 - Fischbach 2004 - 02.wav 2.36225596529\n"
       ]
      }
     ],
     "prompt_number": 11
    },
    {
     "cell_type": "code",
     "collapsed": false,
     "input": [],
     "language": "python",
     "metadata": {},
     "outputs": [],
     "prompt_number": 11
    }
   ],
   "metadata": {}
  }
 ]
}