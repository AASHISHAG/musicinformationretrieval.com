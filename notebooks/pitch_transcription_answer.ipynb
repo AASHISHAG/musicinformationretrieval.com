{
 "metadata": {
  "name": "",
  "signature": "sha256:0c39aef785f81466fe4a14e5ae37752896439cc7ceb966b0f0cfcc61c8b8aff0"
 },
 "nbformat": 3,
 "nbformat_minor": 0,
 "worksheets": [
  {
   "cells": [
    {
     "cell_type": "heading",
     "level": 1,
     "metadata": {},
     "source": [
      "Pitch Transcription Exercise"
     ]
    },
    {
     "cell_type": "markdown",
     "metadata": {},
     "source": [
      "Goal: Given an input signal, \n",
      "\n",
      "1. identify each note (including pitch, start time, and duration), and \n",
      "2. render the transcription to be played back as audio."
     ]
    },
    {
     "cell_type": "markdown",
     "metadata": {},
     "source": [
      "Imports:"
     ]
    },
    {
     "cell_type": "code",
     "collapsed": false,
     "input": [
      "import essentia\n",
      "import essentia.standard as ess\n",
      "import librosa"
     ],
     "language": "python",
     "metadata": {},
     "outputs": [],
     "prompt_number": 1
    },
    {
     "cell_type": "markdown",
     "metadata": {},
     "source": [
      "Set figure size:"
     ]
    },
    {
     "cell_type": "code",
     "collapsed": true,
     "input": [
      "rcParams['figure.figsize'] = (15, 6)"
     ],
     "language": "python",
     "metadata": {},
     "outputs": [],
     "prompt_number": 2
    },
    {
     "cell_type": "markdown",
     "metadata": {},
     "source": [
      "Read an input signal:"
     ]
    },
    {
     "cell_type": "code",
     "collapsed": false,
     "input": [
      "fs = 44100.0\n",
      "loader = ess.MonoLoader(filename='../test/test.wav', sampleRate=fs)\n",
      "signal_in = loader()"
     ],
     "language": "python",
     "metadata": {},
     "outputs": [],
     "prompt_number": 3
    },
    {
     "cell_type": "markdown",
     "metadata": {},
     "source": [
      "Play the signal:"
     ]
    },
    {
     "cell_type": "code",
     "collapsed": false,
     "input": [
      "from IPython.display import Audio\n",
      "#Audio(data=signal_in, rate=44100) # may take a while to load"
     ],
     "language": "python",
     "metadata": {},
     "outputs": [],
     "prompt_number": 4
    },
    {
     "cell_type": "markdown",
     "metadata": {},
     "source": [
      "Given a signal, return onset times:"
     ]
    },
    {
     "cell_type": "code",
     "collapsed": false,
     "input": [
      "def get_onsets(signal_in):\n",
      "    onset_times, onset_rate = ess.OnsetRate()(signal_in)\n",
      "    return onset_times"
     ],
     "language": "python",
     "metadata": {},
     "outputs": [],
     "prompt_number": 5
    },
    {
     "cell_type": "markdown",
     "metadata": {},
     "source": [
      "Given an audio segment, return pitch:"
     ]
    },
    {
     "cell_type": "code",
     "collapsed": false,
     "input": [
      "yin = ess.PitchYinFFT()\n",
      "spectrum = ess.Spectrum()\n",
      "\n",
      "def get_pitch(segment):\n",
      "    if len(segment) < 4096: # hack to get around Essentia error\n",
      "        N = len(segment) if len(segment) % 2 == 0 else len(segment) - 1\n",
      "    else:\n",
      "        N = 4096\n",
      "    pitch, pitch_conf = yin(spectrum(segment[:N]))\n",
      "    return pitch"
     ],
     "language": "python",
     "metadata": {},
     "outputs": [],
     "prompt_number": 6
    },
    {
     "cell_type": "markdown",
     "metadata": {},
     "source": [
      "Given a pitch, return a sine wave:"
     ]
    },
    {
     "cell_type": "code",
     "collapsed": false,
     "input": [
      "def generate_sine(pitch, n_duration):\n",
      "    #print midi, f0\n",
      "    n = arange(n_duration)\n",
      "    return 0.2*sin(2*pi*pitch*n/fs)"
     ],
     "language": "python",
     "metadata": {},
     "outputs": [],
     "prompt_number": 7
    },
    {
     "cell_type": "markdown",
     "metadata": {},
     "source": [
      "Given an input signal, transcribe it, and render the transcription using sine waves:"
     ]
    },
    {
     "cell_type": "code",
     "collapsed": false,
     "input": [
      "def transcribe_pitch(signal_in):\n",
      "    \n",
      "    # initialize output signal\n",
      "    signal_out = essentia.array(zeros(len(signal_in)))\n",
      "    \n",
      "    # onset detection\n",
      "    onsets = get_onsets(signal_in)\n",
      "    \n",
      "    # for each onset\n",
      "    onsets = append(onsets, len(signal_in)/fs)\n",
      "    for i in range(len(onsets)-1):\n",
      "        # pitch detect each segment\n",
      "        n0 = int(onsets[i]*44100)\n",
      "        n1 = int(onsets[i+1]*44100)\n",
      "        pitch = get_pitch(signal_in[n0:n1])\n",
      "        \n",
      "        # generate sine wave; add to output signal\n",
      "        signal_out[n0:n1] = generate_sine(pitch, n1-n0)\n",
      "        \n",
      "    return signal_out"
     ],
     "language": "python",
     "metadata": {},
     "outputs": [],
     "prompt_number": 8
    },
    {
     "cell_type": "markdown",
     "metadata": {},
     "source": [
      "Transcribe:"
     ]
    },
    {
     "cell_type": "code",
     "collapsed": false,
     "input": [
      "signal_out = transcribe_pitch(signal_in)"
     ],
     "language": "python",
     "metadata": {},
     "outputs": [],
     "prompt_number": 9
    },
    {
     "cell_type": "markdown",
     "metadata": {},
     "source": [
      "Write output to file:"
     ]
    },
    {
     "cell_type": "code",
     "collapsed": false,
     "input": [
      "#Audio(data=signal_out, rate=fs)\n",
      "#Audio(data=sum([signal_out, signal_in], axis=0), rate=fs)\n",
      "ess.MonoWriter(filename='../test/out.wav')(signal_out)"
     ],
     "language": "python",
     "metadata": {},
     "outputs": [],
     "prompt_number": 10
    },
    {
     "cell_type": "markdown",
     "metadata": {},
     "source": [
      "Plot the onsets:"
     ]
    },
    {
     "cell_type": "code",
     "collapsed": false,
     "input": [
      "plot(signal_in)\n",
      "for onset in get_onsets(signal_in):\n",
      "    axvline(onset*fs, color='r')"
     ],
     "language": "python",
     "metadata": {},
     "outputs": [
      {
       "metadata": {},
       "output_type": "display_data",
       "png": "[encoded data removed]",
       "text": [
        "<matplotlib.figure.Figure at 0x487c3d0>"
       ]
      }
     ]
    },
    {
     "cell_type": "markdown",
     "metadata": {},
     "source": [
      "Plot the pitches:"
     ]
    },
    {
     "cell_type": "code",
     "collapsed": false,
     "input": [
      "CQT = librosa.cqt(signal_in[fs:fs*8], fs, hop_length=4096, fmin=librosa.midi_to_hz(60), fmax=librosa.midi_to_hz(108))"
     ],
     "language": "python",
     "metadata": {},
     "outputs": [
      {
       "output_type": "stream",
       "stream": "stderr",
       "text": [
        "-c:1: DeprecationWarning: using a non-integer number instead of an integer will result in an error in the future\n",
        "-c:1: DeprecationWarning: using a non-integer number instead of an integer will result in an error in the future\n",
        "/usr/lib/python2.7/dist-packages/scipy/fftpack/basic.py:121: DeprecationWarning: using a non-integer number instead of an integer will result in an error in the future\n",
        "  z = zeros(s,x.dtype.char)\n"
       ]
      }
     ]
    },
    {
     "cell_type": "code",
     "collapsed": false,
     "input": [
      "librosa.display.specshow(librosa.logamplitude(CQT), sr=fs, y_axis='cqt_note', fmin=librosa.midi_to_hz(60), fmax=librosa.midi_to_hz(120))"
     ],
     "language": "python",
     "metadata": {},
     "outputs": []
    },
    {
     "cell_type": "code",
     "collapsed": false,
     "input": [],
     "language": "python",
     "metadata": {},
     "outputs": []
    }
   ],
   "metadata": {}
  }
 ]
}