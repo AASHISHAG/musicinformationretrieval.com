{
 "metadata": {
  "name": "",
  "signature": "sha256:bf70df398956b11061c08c16b7ac0d48021c764eb731784865a2d5d1b9f1ce89"
 },
 "nbformat": 3,
 "nbformat_minor": 0,
 "worksheets": [
  {
   "cells": [
    {
     "cell_type": "heading",
     "level": 1,
     "metadata": {},
     "source": [
      "Pitch Transcription Exercise"
     ]
    },
    {
     "cell_type": "heading",
     "level": 2,
     "metadata": {},
     "source": [
      "Load an audio file."
     ]
    },
    {
     "cell_type": "code",
     "collapsed": false,
     "input": [
      "import essentia.standard as ess\n",
      "loader = ess.MonoLoader(filename='default.wav', sampleRate=44100)\n",
      "signal_in = loader()"
     ],
     "language": "python",
     "metadata": {},
     "outputs": []
    },
    {
     "cell_type": "code",
     "collapsed": false,
     "input": [
      "from IPython.display import Audio\n",
      "Audio(data=signal_in, rate=44100)"
     ],
     "language": "python",
     "metadata": {},
     "outputs": []
    },
    {
     "cell_type": "heading",
     "level": 2,
     "metadata": {},
     "source": [
      "Find each note and its pitch."
     ]
    },
    {
     "cell_type": "code",
     "collapsed": true,
     "input": [
      "signal_out = transcribe_pitch(signal_in)"
     ],
     "language": "python",
     "metadata": {},
     "outputs": []
    },
    {
     "cell_type": "heading",
     "level": 2,
     "metadata": {},
     "source": [
      "Play the synthesized transcription."
     ]
    },
    {
     "cell_type": "code",
     "collapsed": false,
     "input": [
      "Audio(data=signal_out, rate=44100)"
     ],
     "language": "python",
     "metadata": {},
     "outputs": []
    }
   ],
   "metadata": {}
  }
 ]
}