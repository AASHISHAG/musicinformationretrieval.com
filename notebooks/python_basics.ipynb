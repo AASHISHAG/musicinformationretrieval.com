{
 "metadata": {
  "name": "",
  "signature": "sha256:f537fdc0dbf8d83f3394951c8baa336475d54276fd9dcd98866b405a221d79be"
 },
 "nbformat": 3,
 "nbformat_minor": 0,
 "worksheets": [
  {
   "cells": [
    {
     "cell_type": "heading",
     "level": 1,
     "metadata": {},
     "source": [
      "Python Basics"
     ]
    },
    {
     "cell_type": "heading",
     "level": 2,
     "metadata": {},
     "source": [
      "Why Python?"
     ]
    },
    {
     "cell_type": "markdown",
     "metadata": {},
     "source": [
      "Python is a general-purpose programming language that is popular and easy to use. For new programmers, it is a great choice as a first programming language. In fact, more and more university CS departments are centering their introductory courses around Python.\n",
      "\n",
      "For a summary of why I (SKT) moved from Matlab to Python, please read [this post](http://stevetjoa.com/305)."
     ]
    },
    {
     "cell_type": "heading",
     "level": 2,
     "metadata": {},
     "source": [
      "Tutorial"
     ]
    },
    {
     "cell_type": "markdown",
     "metadata": {},
     "source": [
      "If you are new to Python, please follow [The Python Tutorial](https://docs.python.org/2/tutorial/index.html).\n",
      "\n",
      "For the purposes of this workshop, be sure you understand the following sections:\n",
      "\n",
      "- Section 3: An Informal Introduction to Python\n",
      "- Section 4: More Control Flow Tools\n",
      "- Section 5: Data Structures\n",
      "\n",
      "While the other sections are useful, you can learn them along the way."
     ]
    }
   ],
   "metadata": {}
  }
 ]
}